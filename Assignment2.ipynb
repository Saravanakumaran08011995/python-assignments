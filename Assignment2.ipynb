{
 "cells": [
  {
   "cell_type": "code",
   "execution_count": 46,
   "id": "3f1f7ce0-24d6-448e-a3e6-c5bbbdbf501f",
   "metadata": {},
   "outputs": [
    {
     "data": {
      "text/plain": [
       "[1505,\n",
       " 1540,\n",
       " 1575,\n",
       " 1610,\n",
       " 1645,\n",
       " 1680,\n",
       " 1715,\n",
       " 1750,\n",
       " 1785,\n",
       " 1820,\n",
       " 1855,\n",
       " 1890,\n",
       " 1925,\n",
       " 1960,\n",
       " 1995,\n",
       " 2030,\n",
       " 2065,\n",
       " 2100,\n",
       " 2135,\n",
       " 2170,\n",
       " 2205,\n",
       " 2240,\n",
       " 2275,\n",
       " 2310,\n",
       " 2345,\n",
       " 2380,\n",
       " 2415,\n",
       " 2450,\n",
       " 2485,\n",
       " 2520,\n",
       " 2555,\n",
       " 2590,\n",
       " 2625,\n",
       " 2660,\n",
       " 2695]"
      ]
     },
     "execution_count": 46,
     "metadata": {},
     "output_type": "execute_result"
    }
   ],
   "source": [
    "# Write a Python program to find those numbers which are divisible by 7 and multiples of 5, between 1500 and 2700 (both included).\n",
    "\n",
    "output = [number for number in range(1500,2701) if number%7== 0 and number%5== 0]\n",
    "output"
   ]
  },
  {
   "cell_type": "code",
   "execution_count": 4,
   "id": "65e75929-128a-4a01-a476-edc7b76282a2",
   "metadata": {},
   "outputs": [
    {
     "name": "stdin",
     "output_type": "stream",
     "text": [
      "Input a word to reverse: Shailja\n"
     ]
    },
    {
     "data": {
      "text/plain": [
       "'ajliahS'"
      ]
     },
     "execution_count": 4,
     "metadata": {},
     "output_type": "execute_result"
    }
   ],
   "source": [
    "# Write a Python program that accepts a word from the user and reverses it. \n",
    "# INPUT: Input a word to reverse: Shailja OUTPUT: ajliahS\n",
    "\n",
    "# We can use input method to get the input from the user\n",
    "\n",
    "userInput = input(\"Input a word to reverse:\")\n",
    "\n",
    "output = userInput[::-1]\n",
    "\n",
    "output"
   ]
  },
  {
   "cell_type": "code",
   "execution_count": 18,
   "id": "f8654332-e80f-4237-8184-50bf7054af74",
   "metadata": {},
   "outputs": [
    {
     "data": {
      "text/plain": [
       "[0, 1, 2, 4, 5]"
      ]
     },
     "execution_count": 18,
     "metadata": {},
     "output_type": "execute_result"
    }
   ],
   "source": [
    "# Write a Python program that prints all the numbers from 0 to 6 except 3 and 6. Note : Use 'continue' statement. Expected Output : 0 1 2 4 5\n",
    "\n",
    "output = []\n",
    "for number in range(7):\n",
    "    if number == 0 :\n",
    "        output.append(number)\n",
    "    elif number%3 != 0 :\n",
    "        output.append(number)\n",
    "        continue\n",
    "output\n"
   ]
  },
  {
   "cell_type": "code",
   "execution_count": 42,
   "id": "fc15165d-db1a-40b1-8567-281e104828d3",
   "metadata": {},
   "outputs": [
    {
     "name": "stdout",
     "output_type": "stream",
     "text": [
      "Type of 1452 is <class 'int'>\n",
      "Type of 11.23 is <class 'float'>\n",
      "Type of (1+2j) is <class 'complex'>\n",
      "Type of True is <class 'bool'>\n",
      "Type of w3resource is <class 'str'>\n",
      "Type of (0, -1) is <class 'tuple'>\n",
      "Type of [5, 12] is <class 'list'>\n",
      "Type of {'class': 'V', 'section': 'A'} is <class 'dict'>\n"
     ]
    }
   ],
   "source": [
    "# Write a Python program that prints each item and its corresponding type from the following list. \n",
    "# INPUT = [1452, 11.23, 1+2j, True, 'w3resource', (0, -1), [5, 12], {\"class\":'V', \"section\":'A'}]\n",
    "# OUTPUT: Type of 1452 is <class 'int'> Type of 11.23 is <class 'float'> Type of (1+2j) is <class 'complex'>...\n",
    "\n",
    "inputs = [1452, 11.23, 1+2j, True, 'w3resource', (0, -1), [5, 12], {\"class\":'V', \"section\":'A'}]\n",
    "\n",
    "for i in inputs:\n",
    "    print(f\"Type of {i} is\", type(i))\n",
    "\n"
   ]
  },
  {
   "cell_type": "code",
   "execution_count": 2,
   "id": "2fe0a897-5a2d-4534-882e-142ec1e07b0f",
   "metadata": {},
   "outputs": [
    {
     "name": "stdin",
     "output_type": "stream",
     "text": [
      "check a letter of the alphabet: k\n"
     ]
    },
    {
     "name": "stdout",
     "output_type": "stream",
     "text": [
      "k is a consonant\n"
     ]
    }
   ],
   "source": [
    "# Write a Python program to check whether an alphabet is a vowel or consonant. \n",
    "# OUTPUT: Input a letter of the alphabet: k k is a consonant.\n",
    "\n",
    "char_input = input(\"check a letter of the alphabet:\")\n",
    "\n",
    "# creating a vowel list\n",
    "\n",
    "vowels = [\"a\",\"e\",\"i\",\"o\",\"u\"]\n",
    "\n",
    "value = char_input.lower()\n",
    "\n",
    "if value in vowels:\n",
    "    print(f\"{value} is a vowel\")\n",
    "else:\n",
    "    print(f\"{value} is a consonant\")"
   ]
  },
  {
   "cell_type": "code",
   "execution_count": 8,
   "id": "9f694c7c-f006-46eb-ba9b-2dda4a35dfb0",
   "metadata": {},
   "outputs": [
    {
     "name": "stdin",
     "output_type": "stream",
     "text": [
      "Input your password: 1245\n"
     ]
    },
    {
     "name": "stdout",
     "output_type": "stream",
     "text": [
      "Invalid Password\n"
     ]
    }
   ],
   "source": [
    "# Write a Python program to check the validity of passwords input by users.\n",
    "# Validation : At least 1 letter between [a-z] and 1 letter between [A-Z]. \n",
    "# At least 1 number between [0-9]. \n",
    "# At least 1 character from [$#@]. \n",
    "# Minimum length 6 characters. Maximum length 16 characters.\n",
    "\n",
    "userInput = input(\"Input your password:\")\n",
    "\n",
    "small_letters = \"abcdefghijklmnopqrstuvwxyz\"\n",
    "capital_letters = \"ABCDEFGHIJKLMNOPQRSTUVWXYZ\"\n",
    "numbers = [\"0\",\"1\",\"2\",\"3\",\"4\",\"5\",\"6\",\"7\",\"8\",\"9\"]\n",
    "char = \"$#@\"\n",
    "\n",
    "# validating the length of password\n",
    "char_length_pass = True\n",
    "small_letter_check = False\n",
    "capital_letter_check = False\n",
    "number_check = False\n",
    "char_check = False\n",
    "\n",
    "if len(userInput)<6 or len(userInput)>16:\n",
    "    char_length_pass = False\n",
    "else:\n",
    "    char_length_pass = True\n",
    "    \n",
    "for value in userInput:\n",
    "    if value in small_letters:\n",
    "        small_letter_check = True\n",
    "\n",
    "for value in userInput:\n",
    "    if value in capital_letters:\n",
    "        capital_letter_check = True\n",
    "\n",
    "for value in userInput:\n",
    "    if value in numbers:\n",
    "        number_check = True\n",
    "\n",
    "for value in userInput:\n",
    "    if value in char:\n",
    "        char_check = True\n",
    "\n",
    "if char_length_pass == True and small_letter_check == True and capital_letter_check == True and number_check == True and char_check == True:\n",
    "    print(\"Valid Password\")\n",
    "else:\n",
    "    print(\"Invalid Password\")"
   ]
  },
  {
   "cell_type": "code",
   "execution_count": 16,
   "id": "a1a30741-a5a8-4b1c-bf69-713197116545",
   "metadata": {},
   "outputs": [
    {
     "data": {
      "text/plain": [
       "[1, 1, 2, 3, 5, 8, 13, 21, 34]"
      ]
     },
     "execution_count": 16,
     "metadata": {},
     "output_type": "execute_result"
    }
   ],
   "source": [
    "# Write a Python program to get the Fibonacci series between 0 and 50. Note : The Fibonacci Sequence is the series of numbers : 0, 1, 1, 2, 3, 5, 8, 13, 21, .... Every next number is found by adding up the two numbers before it.\n",
    "# Expected Output : 1 1 2 3 5 8 13 21 34\n",
    "\n",
    "fibonacci_sequence = [1,1]\n",
    "\n",
    "# calculating fibonacci based on index\n",
    "for index in range(2,51):\n",
    "    value = fibonacci_sequence[index-1]+fibonacci_sequence[index-2]\n",
    "    if value<=50:\n",
    "        fibonacci_sequence.append(value)\n",
    "    else:\n",
    "        break\n",
    "        \n",
    "fibonacci_sequence"
   ]
  },
  {
   "cell_type": "code",
   "execution_count": 17,
   "id": "da44b9cb-e862-4a72-a7af-db7eb7dedeb5",
   "metadata": {},
   "outputs": [
    {
     "data": {
      "text/plain": [
       "'HrowDataSkills'"
      ]
     },
     "execution_count": 17,
     "metadata": {},
     "output_type": "execute_result"
    }
   ],
   "source": [
    "# Write a Python program that takes a string as input and replaces all occurrences of a given character with another character.\n",
    "# INPUT: Enter a string: We study at GrowDataSkills Enter the character to replace: G Enter the replacement character: H\n",
    "\n",
    "input = \"GrowDataSkills\"\n",
    "\n",
    "output = \"\"\n",
    "\n",
    "for char in input:\n",
    "    if char == \"G\":\n",
    "        output += \"H\"\n",
    "    else:\n",
    "        output += char\n",
    "output"
   ]
  },
  {
   "cell_type": "code",
   "execution_count": 19,
   "id": "cb6a1f65-9ff8-4dc4-a161-a8338100f1b5",
   "metadata": {},
   "outputs": [
    {
     "data": {
      "text/plain": [
       "[10, 20, 50, 40, 30, 60, 70, 80]"
      ]
     },
     "execution_count": 19,
     "metadata": {},
     "output_type": "execute_result"
    }
   ],
   "source": [
    "# Write a Python function to reverse a list at a specific location. \n",
    "# INPUT: [10,20,30,40,50,60,70,80] start_pos = 2 end_pos = 4 \n",
    "# OUTPUT: Reverse elements of the said list between index position 2 and 4 [10, 20, 50, 40, 30, 60, 70, 80]\n",
    "\n",
    "input = [10,20,30,40,50,60,70,80]\n",
    "\n",
    "start_pos = 2\n",
    "\n",
    "end_pos = 4\n",
    "\n",
    "sublist = input[start_pos:end_pos+1]\n",
    "\n",
    "sublist.reverse()\n",
    "\n",
    "input[start_pos:end_pos+1] = sublist\n",
    "\n",
    "input\n",
    "\n",
    "\n",
    "        "
   ]
  },
  {
   "cell_type": "code",
   "execution_count": 4,
   "id": "b8a6b866-eaa2-458a-8883-f0d439a362f2",
   "metadata": {},
   "outputs": [
    {
     "name": "stdin",
     "output_type": "stream",
     "text": [
      "Enter a string: GrowDataSkills\n"
     ]
    },
    {
     "name": "stdout",
     "output_type": "stream",
     "text": [
      "It is not a palindrome.\n"
     ]
    }
   ],
   "source": [
    "# Write a Python program that takes a string as input and checks if it is a palindrome (reads the same forwards and backward).\n",
    "# INPUT: Enter a string: GrowDataSkills OUTPUT: It is not a palindrome.\n",
    "\n",
    "userInput = input(\"Enter a string:\")\n",
    "\n",
    "palindrome_check = False\n",
    "\n",
    "palindrome = userInput[::-1]\n",
    "\n",
    "if palindrome == userInput:\n",
    "    print(\"It is a Palindrome.\")\n",
    "else:\n",
    "    print(\"It is not a palindrome.\")\n",
    "\n"
   ]
  },
  {
   "cell_type": "code",
   "execution_count": 9,
   "id": "870286d1-0af1-45c2-911e-89a2e92f5c66",
   "metadata": {},
   "outputs": [
    {
     "name": "stdin",
     "output_type": "stream",
     "text": [
      "Enter a sentence: we are growdataskills\n"
     ]
    },
    {
     "data": {
      "text/plain": [
       "'We Are Growdataskills'"
      ]
     },
     "execution_count": 9,
     "metadata": {},
     "output_type": "execute_result"
    }
   ],
   "source": [
    "# Write a Python program that takes a sentence as input and capitalizes the first letter of each word.\n",
    "# INPUT: Enter a sentence: we are growdataskills OUTPUT: Capitalized sentence: We Are Growdataskills\n",
    "\n",
    "userInput = input(\"Enter a sentence:\")\n",
    "\n",
    "sentence = userInput.split()\n",
    "\n",
    "capitalized_list = []\n",
    "\n",
    "for word in sentence:\n",
    "    capitalized_list.append(word.capitalize())\n",
    "    \n",
    "\" \".join(capitalized_list)"
   ]
  },
  {
   "cell_type": "code",
   "execution_count": 10,
   "id": "c7c69b41-ca38-4910-8a67-57625b0b118b",
   "metadata": {},
   "outputs": [
    {
     "data": {
      "text/plain": [
       "[3, 4, 5]"
      ]
     },
     "execution_count": 10,
     "metadata": {},
     "output_type": "execute_result"
    }
   ],
   "source": [
    "# Write a Python program that takes two lists as input and returns a new list containing the common elements between the two lists.\n",
    "# INPUT: list1 = [1, 2, 3, 4, 5] list2 = [3, 4, 5, 6, 7] OUTPUT: Common elements: [3, 4, 5]\n",
    "\n",
    "list1 = [1, 2, 3, 4, 5]\n",
    "list2 = [3, 4, 5, 6, 7]\n",
    "\n",
    "common_elements = []\n",
    "\n",
    "for value in list1:\n",
    "    if value in list2:\n",
    "        common_elements.append(value)\n",
    "\n",
    "common_elements"
   ]
  },
  {
   "cell_type": "code",
   "execution_count": 12,
   "id": "280b7c0b-b24d-4c66-bc26-d6a1aef6fda7",
   "metadata": {},
   "outputs": [
    {
     "name": "stdin",
     "output_type": "stream",
     "text": [
      "Input a number to compute the factorial: 4\n"
     ]
    },
    {
     "data": {
      "text/plain": [
       "24"
      ]
     },
     "execution_count": 12,
     "metadata": {},
     "output_type": "execute_result"
    }
   ],
   "source": [
    "# Write a Python function to calculate the factorial of a number (a non-negative integer). The function accepts the number as an argument. \n",
    "# INPUT: Input a number to compute the factorial: 4 OUTPUT: 24\n",
    "\n",
    "def factorial(num):\n",
    "    factorial_num = 1\n",
    "    for number in range(2,num+1):\n",
    "        factorial_num *= number\n",
    "\n",
    "    return factorial_num\n",
    "\n",
    "userInput = int(input(\"Input a number to compute the factorial:\"))\n",
    "\n",
    "factorial(userInput)\n",
    "        \n",
    "        "
   ]
  },
  {
   "cell_type": "code",
   "execution_count": 18,
   "id": "a81ea68b-62a7-4bdd-ab1d-61ea41e21a60",
   "metadata": {},
   "outputs": [
    {
     "name": "stdin",
     "output_type": "stream",
     "text": [
      " The quick Brow Fox\n"
     ]
    },
    {
     "name": "stdout",
     "output_type": "stream",
     "text": [
      "No. of Upper case characters : 3\n",
      "No. of Lower case characters : 12\n"
     ]
    }
   ],
   "source": [
    "# Write a Python function that accepts a string and counts the number of upper- and lower-case letters. \n",
    "# INPUT: The quick Brow Fox'\n",
    "# OUTPUT: No. of Upper case characters : 3 No. of Lower case Characters : 12\n",
    "\n",
    "def string_counter(sentence):\n",
    "    small_letters = \"abcdefghijklmnopqrstuvwxyz\"\n",
    "    capital_letters = \"ABCDEFGHIJKLMNOPQRSTUVWXYZ\"\n",
    "    small_letter_count = 0\n",
    "    capital_letter_count = 0\n",
    "\n",
    "    for char in sentence:\n",
    "        if char in small_letters:\n",
    "            small_letter_count += 1\n",
    "        elif char in capital_letters:\n",
    "            capital_letter_count +=1\n",
    "    \n",
    "    print(f\"No. of Upper case characters :\", capital_letter_count)\n",
    "    print(f\"No. of Lower case characters :\", small_letter_count)\n",
    "\n",
    "userInput = input()\n",
    "string_counter(userInput)"
   ]
  },
  {
   "cell_type": "code",
   "execution_count": 2,
   "id": "ba8f0341-2e79-4829-ad15-8f4f804bbfbd",
   "metadata": {},
   "outputs": [
    {
     "name": "stdout",
     "output_type": "stream",
     "text": [
      "5 is in range\n"
     ]
    }
   ],
   "source": [
    "# Write a Python function to check whether a number falls within a given range(3,9)\n",
    "# INPUT:5 OUTPUT: 5 is in the range\n",
    "\n",
    "def num_in_range(number):\n",
    "    for num in range(3,9):\n",
    "        if number == num:\n",
    "            print(f\"{num} is in range\")\n",
    "\n",
    "\n",
    "num_in_range(5)"
   ]
  },
  {
   "cell_type": "code",
   "execution_count": 13,
   "id": "8a74fdd8-99f8-4b0f-a676-132ef4f1a680",
   "metadata": {},
   "outputs": [
    {
     "name": "stdin",
     "output_type": "stream",
     "text": [
      "Enter an integer: 13\n"
     ]
    },
    {
     "name": "stdout",
     "output_type": "stream",
     "text": [
      "It is a prime number.\n"
     ]
    }
   ],
   "source": [
    "# Write a Python function that takes an integer as input and checks if it is a prime number. \n",
    "# INPUT: Enter an integer: 13 OUTPUT: It is a prime number.\n",
    "\n",
    "def prime_number(number):\n",
    "    is_prime = True\n",
    "    for num in range(2,number):\n",
    "        if number%num == 0:\n",
    "            is_prime = False\n",
    "\n",
    "    if is_prime == False:\n",
    "        print(\"It is not a prime number\")\n",
    "    else:\n",
    "        print(\"It is a prime number.\")\n",
    "        \n",
    "userInput = int(input(\"Enter an integer:\"))\n",
    "\n",
    "prime_number(userInput)"
   ]
  },
  {
   "cell_type": "code",
   "execution_count": 20,
   "id": "ae321dc4-cf2a-4028-93cd-531950efe69d",
   "metadata": {},
   "outputs": [
    {
     "name": "stdout",
     "output_type": "stream",
     "text": [
      "5.5\n"
     ]
    }
   ],
   "source": [
    "# Write a Python function that takes a list of numbers as input and returns the average of the numbers.\n",
    "# INPUT: [1,2,3,4,5,6,7,8,9,10] OUTPUT: 5.5\n",
    "\n",
    "def average(number_list):\n",
    "    sum_of_number_list = sum(number_list)\n",
    "    average = sum_of_number_list/len(number_list)\n",
    "    return average\n",
    "\n",
    "number_list = [1,2,3,4,5,6,7,8,9,10]\n",
    "\n",
    "print(average(number_list))\n"
   ]
  },
  {
   "cell_type": "code",
   "execution_count": 27,
   "id": "9b0e8852-3abf-42dc-b109-cfa4a88c2c60",
   "metadata": {},
   "outputs": [
    {
     "name": "stdout",
     "output_type": "stream",
     "text": [
      "[0, 1, 2, 3, 4]\n"
     ]
    }
   ],
   "source": [
    "# Write a Python function that takes a list as input and returns a new list containing only the unique elements from the input list.\n",
    "# INPUT: [1,2,3,4,1,2,0,0,1] OUTPUT: [0, 1, 2, 3, 4]\n",
    "\n",
    "def unique_elements(list):\n",
    "    unique_values = []\n",
    "    for value in list:\n",
    "        if value not in unique_values:\n",
    "            unique_values.append(value)\n",
    "    unique_values.sort()\n",
    "    return unique_values\n",
    "\n",
    "input = [1,2,3,4,1,2,0,0,1]\n",
    "\n",
    "print(unique_elements(input))\n",
    "\n"
   ]
  },
  {
   "cell_type": "code",
   "execution_count": 4,
   "id": "766b0bf7-6ca1-4232-ac5f-1aa1067ef431",
   "metadata": {},
   "outputs": [
    {
     "name": "stdin",
     "output_type": "stream",
     "text": [
      "Enter the first string: race\n",
      "Enter the second string: care\n"
     ]
    },
    {
     "name": "stdout",
     "output_type": "stream",
     "text": [
      "They are anagrams\n"
     ]
    }
   ],
   "source": [
    "# Write a Python function that takes two strings as input and checks if they are anagrams (contain the same characters in any order). \n",
    "# INPUT: Enter the first string: race Enter the second string: care OUTPUT: They are anagrams.\n",
    "\n",
    "def anagrams(str1,str2):\n",
    "    anagram_check = True\n",
    "    for char in str1:\n",
    "        if char not in str2:\n",
    "            anagram_check = False\n",
    "        if anagram_check == False:\n",
    "            break\n",
    "    if anagram_check == True:\n",
    "        print(\"They are anagrams\")\n",
    "    else:\n",
    "        print(\"They are not anagrams\")\n",
    "\n",
    "\n",
    "string_1 = input(\"Enter the first string:\")\n",
    "string_2 = input(\"Enter the second string:\")\n",
    "\n",
    "anagrams(string_1, string_2)"
   ]
  },
  {
   "cell_type": "code",
   "execution_count": 5,
   "id": "72d51f70-1d7a-4315-b8e8-7007ce220d36",
   "metadata": {},
   "outputs": [
    {
     "name": "stdout",
     "output_type": "stream",
     "text": [
      "Ocurrances: 4\n"
     ]
    }
   ],
   "source": [
    "# Write a Python function that takes a list and an element as input and returns the number of occurrences of that element in the list.\n",
    "# INPUT: input_list = [ 1,2,3,4,2,2,3,4,5,9,2,6]\n",
    "# Enter the element to count: 2 OUTPUT: Occurrences: 4\n",
    "\n",
    "def occurances(list,element):\n",
    "    count = 0\n",
    "    for value in list:\n",
    "        if element == value:\n",
    "            count += 1\n",
    "    return print(f\"Ocurrances: {count}\")\n",
    "\n",
    "input = [ 1,2,3,4,2,2,3,4,5,9,2,6]\n",
    "\n",
    "element = 2\n",
    "\n",
    "occurances(input,element)"
   ]
  },
  {
   "cell_type": "code",
   "execution_count": 26,
   "id": "a0e19dcf-2ce3-49b9-b203-1f5e5fa0c73b",
   "metadata": {},
   "outputs": [
    {
     "data": {
      "text/plain": [
       "[(2, 1), (3, 2), (1, 3), (5, 4), (4, 5)]"
      ]
     },
     "execution_count": 26,
     "metadata": {},
     "output_type": "execute_result"
    }
   ],
   "source": [
    "# Write a Python function that takes a list of tuples as input and returns the list sorted based on the second element of each tuple.\n",
    "# INPUT:[(1, 3), (2, 1), (3, 2), (4, 5), (5, 4)] OUTPUT: Sorted list of tuples: [(2, 1), (3, 2), (1, 3), (5, 4), (4, 5)]\n",
    "\n",
    "def second_element_sort(tuples):\n",
    "    second_tuple_value = []\n",
    "    for index in range(len(tuples)):\n",
    "        second_tuple_value.append(tuples[index][1])\n",
    "    second_tuple_value.sort()\n",
    "\n",
    "    sorted_tuple = []\n",
    "    for value in second_tuple_value:\n",
    "        for index in range(len(tuples)):\n",
    "            if value == tuples[index][1]:\n",
    "                sorted_tuple.append(tuples[index])\n",
    "    return sorted_tuple\n",
    "        \n",
    "input = [(1, 3), (2, 1), (3, 2), (4, 5), (5, 4)]\n",
    "\n",
    "second_element_sort(input)\n",
    "\n",
    "\n",
    "\n"
   ]
  },
  {
   "cell_type": "code",
   "execution_count": 29,
   "id": "c45e545f-659b-4383-ac2d-182557ab68c3",
   "metadata": {},
   "outputs": [
    {
     "name": "stdout",
     "output_type": "stream",
     "text": [
      "Second largest element: 8\n"
     ]
    }
   ],
   "source": [
    "# Write a Python function that takes a list of integers as input and returns the second largest element in the list. \n",
    "# INPUT: [3, 5, 2, 8, 9, 5, 1] OUTPUT: Second largest element: 8\n",
    "\n",
    "def second_largest(list):\n",
    "    list.sort()\n",
    "    return print(f\"Second largest element: {list[-2]}\")\n",
    "\n",
    "input = [3, 5, 2, 8, 9, 5, 1]\n",
    "\n",
    "second_largest(input)"
   ]
  },
  {
   "cell_type": "code",
   "execution_count": 42,
   "id": "ddac4060-416d-4715-ac5c-0c2382830c62",
   "metadata": {},
   "outputs": [
    {
     "name": "stdout",
     "output_type": "stream",
     "text": [
      "[1, 16, 81, 256, 625]\n"
     ]
    }
   ],
   "source": [
    "# Write a Python lambda function that takes a list of numbers and an exponent n as input and returns a new list with each element raised to the power of n.\n",
    "# INPUT: input_numbers = [1, 2, 3, 4, 5] exponent = 4 OUTPUT: [1, 16, 81, 256, 625]\n",
    "\n",
    "input_numbers = [1, 2, 3, 4, 5]\n",
    "exponent = 4\n",
    "\n",
    "exponential = list(map(lambda num: num ** exponent, input_numbers))\n",
    "\n",
    "print(exponential)\n",
    "\n",
    "\n",
    "\n",
    "\n"
   ]
  },
  {
   "cell_type": "code",
   "execution_count": 44,
   "id": "a2fbbb2a-5c4c-421b-9311-6a29114a9cb3",
   "metadata": {},
   "outputs": [
    {
     "data": {
      "text/plain": [
       "[1, 3, 5, 7, 9]"
      ]
     },
     "execution_count": 44,
     "metadata": {},
     "output_type": "execute_result"
    }
   ],
   "source": [
    "# Write a Python function that takes a list of integers as input and returns a new list containing only the odd numbers. \n",
    "# INPUT: [1, 2, 3, 4, 5, 6, 7, 8, 9, 10] OUTPUT: [1,3,5,7,9]\n",
    "\n",
    "input = [1, 2, 3, 4, 5, 6, 7, 8, 9, 10]\n",
    "\n",
    "odd_numbers = list(filter(lambda num:num%2 !=0,input))\n",
    "\n",
    "odd_numbers"
   ]
  },
  {
   "cell_type": "code",
   "execution_count": 47,
   "id": "b96d809e-ea83-457c-afc7-b73260722fff",
   "metadata": {},
   "outputs": [
    {
     "name": "stdout",
     "output_type": "stream",
     "text": [
      "Area of the circle: 50.24\n",
      "Perimeter of the circle: 25.12\n"
     ]
    }
   ],
   "source": [
    "# Write a Python program to create a class representing a Circle. Include methods to calculate its area and perimeter.\n",
    "# INPUT: Radius of the circle: 4 OUTPUT: Area of the circle: 50.26548245743669 Perimeter of the circle: 25.132741228718345\n",
    "\n",
    "class Circle:\n",
    "    def __init__(self,radius):\n",
    "        self.radius = radius\n",
    "\n",
    "    def circle_area(self):\n",
    "        area = 3.14 * (self.radius**2)\n",
    "        return area\n",
    "        \n",
    "    def circle_perimeter(self):\n",
    "        perimeter = 2 * 3.14 * self.radius\n",
    "        return perimeter\n",
    "        \n",
    "circle_radius = 4 \n",
    "\n",
    "circle = Circle(circle_radius)\n",
    "\n",
    "area_of_circle = circle.circle_area()\n",
    "perimeter_of_circle = circle.circle_perimeter()\n",
    "\n",
    "print(f\"Area of the circle: {area_of_circle}\")\n",
    "print(f\"Perimeter of the circle: {perimeter_of_circle}\")"
   ]
  },
  {
   "cell_type": "code",
   "execution_count": 3,
   "id": "c2affaeb-a478-4369-bbb1-cb06cdd26cd9",
   "metadata": {},
   "outputs": [
    {
     "data": {
      "text/plain": [
       "60"
      ]
     },
     "execution_count": 3,
     "metadata": {},
     "output_type": "execute_result"
    }
   ],
   "source": [
    "# Write a Python program to create a person class. Include attributes like name, country and date of birth. Implement a method to determine the person's age.\n",
    "\n",
    "class Person:\n",
    "    def __init__(self,name,age,country,date_of_birth):\n",
    "        self.name= name\n",
    "        self.age = age\n",
    "        self.country = country\n",
    "        self.date_of_birth = date_of_birth\n",
    "\n",
    "    def get_name(self):\n",
    "        return self.name\n",
    "        \n",
    "    def get_age(self):\n",
    "        return self.age\n",
    "\n",
    "    def get_country(self):\n",
    "        return self.country\n",
    "\n",
    "    def get_date_of_birth(self):\n",
    "        return date_of_birth\n",
    "\n",
    "person_1 = Person(\"Ferdi Odilia\",60,\"France\",\"1962-07-12\")\n",
    "person_2 = Person(\"Shweta Maddox\",40,\"Canada\",\"1982-10-20\")\n",
    "person_3 = Person(\"Elizaveta Tilman\",23,\"USA\",\"2000-01-01\")\n",
    "\n",
    "age_of_person_1 = person_1.get_age()\n",
    "\n",
    "age_of_person_1"
   ]
  },
  {
   "cell_type": "code",
   "execution_count": 11,
   "id": "bb341297-95f1-4c25-8065-c8ce1b604302",
   "metadata": {},
   "outputs": [
    {
     "name": "stdout",
     "output_type": "stream",
     "text": [
      "12\n",
      "2\n",
      "35\n",
      "1\n"
     ]
    }
   ],
   "source": [
    "# Write a Python program to create a calculator class. Include methods for basic arithmetic operations.\n",
    "\n",
    "class Calculator:\n",
    "    def __init__(self,num1,num2):\n",
    "        self.num1 = num1\n",
    "        self.num2 = num2\n",
    "\n",
    "    def calc_add(self):\n",
    "        result = self.num1 + self.num2\n",
    "        return result\n",
    "\n",
    "    def calc_sub(self):\n",
    "        result = self.num1-self.num2\n",
    "        return result\n",
    "\n",
    "    def calc_mul(self):\n",
    "        result = self.num1 * self.num2\n",
    "        return result\n",
    "\n",
    "    def calc_div(self):\n",
    "        result = self.num1 // self.num2\n",
    "        return result\n",
    "\n",
    "calculation = Calculator(7,5)\n",
    "\n",
    "add_result = calculation.calc_add()\n",
    "sub_result = calculation.calc_sub()\n",
    "mul_result = calculation.calc_mul()\n",
    "div_result = calculation.calc_div()\n",
    "\n",
    "\n",
    "print(add_result)\n",
    "print(sub_result)\n",
    "print(mul_result)\n",
    "print(div_result)\n"
   ]
  },
  {
   "cell_type": "code",
   "execution_count": 16,
   "id": "59429812-70f7-4bb8-81ca-782493a35c90",
   "metadata": {},
   "outputs": [
    {
     "name": "stdout",
     "output_type": "stream",
     "text": [
      "Circle - Area: 78.5 Perimeter: 31.400000000000002\n",
      "Triangle - Area: 24.0 Perimeter: 30\n",
      "Square - Area: 36 Perimeter: 24\n"
     ]
    }
   ],
   "source": [
    "\n",
    "class Shape:\n",
    "    def area(self):\n",
    "        pass\n",
    "\n",
    "    def perimeter(self):\n",
    "        pass\n",
    "\n",
    "class Circle(Shape):\n",
    "    def __init__(self, radius):\n",
    "        self.radius = radius\n",
    "\n",
    "    def area(self):\n",
    "        return 3.14 * self.radius**2\n",
    "\n",
    "    def perimeter(self):\n",
    "        return 2 * 3.14 * self.radius\n",
    "\n",
    "class Triangle(Shape):\n",
    "    def __init__(self, base, height, side1, side2, side3):\n",
    "        self.base = base\n",
    "        self.height = height\n",
    "        self.side1 = side1\n",
    "        self.side2 = side2\n",
    "        self.side3 = side3\n",
    "\n",
    "    def area(self):\n",
    "        return 0.5 * self.base * self.height\n",
    "\n",
    "    def perimeter(self):\n",
    "        return self.side1 + self.side2 + self.side3\n",
    "\n",
    "class Square(Shape):\n",
    "    def __init__(self, side):\n",
    "        self.side = side\n",
    "\n",
    "    def area(self):\n",
    "        return self.side ** 2\n",
    "\n",
    "    def perimeter(self):\n",
    "        return 4 * self.side\n",
    "\n",
    "circle = Circle(5)\n",
    "triangle = Triangle(6, 8, 10, 10, 10)\n",
    "square = Square(6)\n",
    "\n",
    "print(\"Circle - Area:\", circle.area(), \"Perimeter:\", circle.perimeter())\n",
    "print(\"Triangle - Area:\", triangle.area(), \"Perimeter:\", triangle.perimeter())\n",
    "print(\"Square - Area:\", square.area(), \"Perimeter:\", square.perimeter())\n"
   ]
  },
  {
   "cell_type": "code",
   "execution_count": null,
   "id": "81df3e7b-00a0-446e-9c94-607fec46cd8d",
   "metadata": {},
   "outputs": [],
   "source": []
  }
 ],
 "metadata": {
  "kernelspec": {
   "display_name": "Python 3 (ipykernel)",
   "language": "python",
   "name": "python3"
  },
  "language_info": {
   "codemirror_mode": {
    "name": "ipython",
    "version": 3
   },
   "file_extension": ".py",
   "mimetype": "text/x-python",
   "name": "python",
   "nbconvert_exporter": "python",
   "pygments_lexer": "ipython3",
   "version": "3.11.4"
  }
 },
 "nbformat": 4,
 "nbformat_minor": 5
}
