{
 "cells": [
  {
   "cell_type": "code",
   "execution_count": 1,
   "id": "a2667c69-da6a-4d86-830d-525eec4257b7",
   "metadata": {},
   "outputs": [
    {
     "data": {
      "text/plain": [
       "{10, 20, 30, 40, 50, 60, 80}"
      ]
     },
     "execution_count": 1,
     "metadata": {},
     "output_type": "execute_result"
    }
   ],
   "source": [
    "# Q: Write a Python program to remove duplicates from a list. INPUT: a = [10,20,30,20,10,50,60,40,80,50,40] OUTPUT: {40, 10, 80, 50, 20, 60, 30}\n",
    "\n",
    "a = [10,20,30,20,10,50,60,40,80,50,40]\n",
    "\n",
    "# Converting the list to set so that it removes duplicates from the list\n",
    "\n",
    "set(a)"
   ]
  },
  {
   "cell_type": "code",
   "execution_count": 2,
   "id": "5babeddc-2ff9-44f6-a1ea-188797dab11d",
   "metadata": {},
   "outputs": [
    {
     "data": {
      "text/plain": [
       "-5"
      ]
     },
     "execution_count": 2,
     "metadata": {},
     "output_type": "execute_result"
    }
   ],
   "source": [
    "# Q. Write a Python program to sum all the items in a list. INPUT: [1,2,-8] OUTPUT: -5\n",
    "\n",
    "a = [1,2,-8]\n",
    "\n",
    "#sum all the list\n",
    "\n",
    "output = a[0] + a[1] + a[2]\n",
    "\n",
    "output"
   ]
  },
  {
   "cell_type": "code",
   "execution_count": 4,
   "id": "d764c91a-fdb7-4196-af0c-35d86064f078",
   "metadata": {},
   "outputs": [
    {
     "data": {
      "text/plain": [
       "2"
      ]
     },
     "execution_count": 4,
     "metadata": {},
     "output_type": "execute_result"
    }
   ],
   "source": [
    "# Q. Write a Python program to count the number of strings from a given list of strings with length 2 or more and the first and last characters are the same. \n",
    "# INPUT: ['abc', 'xyz', 'aba', '1221'] OUTPUT: 2\n",
    "\n",
    "values = ['abc', 'xyz', 'aba', '1221']\n",
    "\n",
    "# for counting the conditions\n",
    "\n",
    "output = 0\n",
    "\n",
    "# using for loop\n",
    "\n",
    "for value in values:\n",
    "    # Checking length of string which is equal or more than 2\n",
    "    if len(value)>=2:\n",
    "        # Checking first and last string\n",
    "        if value[0] == value[-1]:\n",
    "            output += 1\n",
    "\n",
    "output\n",
    "        "
   ]
  },
  {
   "cell_type": "code",
   "execution_count": 9,
   "id": "03e3f3d6-73db-4117-9903-00327f6cbe6f",
   "metadata": {},
   "outputs": [
    {
     "data": {
      "text/plain": [
       "['Green', 'White', 'Black']"
      ]
     },
     "execution_count": 9,
     "metadata": {},
     "output_type": "execute_result"
    }
   ],
   "source": [
    "# Write a Python program to print a specified list after removing the 0th, 4th and 5th elements. \n",
    "# INPUT: ['Red', 'Green', 'White', 'Black', 'Pink', 'Yellow'] OUTPUT: ['Green', 'White', 'Black']\n",
    "\n",
    "input = ['Red', 'Green', 'White', 'Black', 'Pink', 'Yellow']\n",
    "\n",
    "# removing based on values\n",
    "\n",
    "input.remove(\"Red\")\n",
    "input.remove(\"Pink\")\n",
    "input.remove(\"Yellow\")\n",
    "\n",
    "input"
   ]
  },
  {
   "cell_type": "code",
   "execution_count": 11,
   "id": "1f08fdb7-e61e-44c7-abbe-c03f09cf480b",
   "metadata": {},
   "outputs": [
    {
     "data": {
      "text/plain": [
       "[7, 25, 27]"
      ]
     },
     "execution_count": 11,
     "metadata": {},
     "output_type": "execute_result"
    }
   ],
   "source": [
    "# Write a Python program to print the numbers of a specified list after removing even numbers from it. INPUT: [7,8, 120, 25, 44, 20, 27]\n",
    "# OUTPUT: [7,25,27]\n",
    "\n",
    "inputs = [7,8, 120, 25, 44, 20, 27]\n",
    "\n",
    "#creating an empty list to push the odd numbers\n",
    "output = []\n",
    "\n",
    "# using for loop to iterate \n",
    "\n",
    "for input in inputs:\n",
    "    if input % 2 != 0 :\n",
    "        output.append(input)\n",
    "\n",
    "output"
   ]
  },
  {
   "cell_type": "code",
   "execution_count": 12,
   "id": "1493099e-2993-49ef-9603-78298016f258",
   "metadata": {},
   "outputs": [
    {
     "data": {
      "text/plain": [
       "[10, 20, 30, 40, 50, 60]"
      ]
     },
     "execution_count": 12,
     "metadata": {},
     "output_type": "execute_result"
    }
   ],
   "source": [
    "# Write a Python program to get unique values from a list. INPUT: [10, 20, 30, 40, 20, 50, 60, 40] OUTPUT: [40, 10, 50, 20, 60, 30]\n",
    "\n",
    "inputs = [10, 20, 30, 40, 20, 50, 60, 40]\n",
    "\n",
    "# Creating empty list to get the unique value \n",
    "\n",
    "output = []\n",
    "\n",
    "# using for loop to iterate and checking whether the value is in output list\n",
    "\n",
    "for input in inputs:\n",
    "    if input not in output:\n",
    "        output.append(input)\n",
    "\n",
    "output"
   ]
  },
  {
   "cell_type": "code",
   "execution_count": 16,
   "id": "27c39750-c537-43ed-822e-aa140a853b66",
   "metadata": {},
   "outputs": [
    {
     "data": {
      "text/plain": [
       "'abcd'"
      ]
     },
     "execution_count": 16,
     "metadata": {},
     "output_type": "execute_result"
    }
   ],
   "source": [
    "# Write a Python program to convert a list of characters into a string. INPUT: ['a', 'b', 'c', 'd'] OUTPUT: abcd\n",
    "\n",
    "inputs = ['a', 'b', 'c', 'd']\n",
    "\n",
    "# Creating output as empty string and concatenate the values\n",
    "output = \"\"\n",
    "\n",
    "# iterating the values using for loop\n",
    "\n",
    "for input in inputs:\n",
    "    output += input\n",
    "\n",
    "output"
   ]
  },
  {
   "cell_type": "code",
   "execution_count": 19,
   "id": "3236778e-663d-4944-a46c-4bb57c1a15f6",
   "metadata": {},
   "outputs": [
    {
     "data": {
      "text/plain": [
       "{2, 3, 4, 5, 6, 8, 9}"
      ]
     },
     "execution_count": 19,
     "metadata": {},
     "output_type": "execute_result"
    }
   ],
   "source": [
    "# Write a Python program to calculate the difference between the two lists. INPUT: list1 = [1, 3, 5, 7, 9] list2 = [1, 2, 4, 6, 7, 8]\n",
    "# OUTPUT: [9, 3, 5, 8, 2, 4, 6]\n",
    "\n",
    "list1 = [1, 3, 5, 7, 9]\n",
    "list2 = [1, 2, 4, 6, 7, 8]\n",
    "\n",
    "# Converting to set to use symmetric difference\n",
    "set1 = set(list1)\n",
    "set2 = set(list2)\n",
    "\n",
    "#symmetric difference\n",
    "\n",
    "output = set1.symmetric_difference(set2)\n",
    "\n",
    "output"
   ]
  },
  {
   "cell_type": "code",
   "execution_count": 27,
   "id": "0a98c661-46f2-4492-bbc4-6505c370af22",
   "metadata": {},
   "outputs": [
    {
     "data": {
      "text/plain": [
       "{1: 3, 2: 3, 3: 3, 4: 2, 5: 1}"
      ]
     },
     "execution_count": 27,
     "metadata": {},
     "output_type": "execute_result"
    }
   ],
   "source": [
    "# Q. Write a Python program to get the frequency of elements in a list. INPUT: [1, 2, 3, 2, 4, 1, 3, 5, 2, 3, 4, 1]\n",
    "# OUTPUT: {1: 3, 2: 3, 3: 3, 4: 2, 5: 1}\n",
    "\n",
    "inputs = [1, 2, 3, 2, 4, 1, 3, 5, 2, 3, 4, 1]\n",
    "\n",
    "# taking the unique values from the list\n",
    "\n",
    "unique_values = list(set(inputs))\n",
    "\n",
    "# checking frequency using count\n",
    "count = []\n",
    "\n",
    "for unique_value in unique_values:\n",
    "    unique_count = inputs.count(unique_value)\n",
    "    count.append(unique_count)\n",
    "\n",
    "# Convert to dictionary to get the desired output where unique values is key and count is values we can use zip()\n",
    "\n",
    "pairs = zip(unique_values, count)\n",
    "result_dict = dict(pairs)\n",
    "\n",
    "result_dict\n",
    "\n"
   ]
  },
  {
   "cell_type": "code",
   "execution_count": 30,
   "id": "6712bc78-aafc-4afc-866f-84f03b80142f",
   "metadata": {},
   "outputs": [
    {
     "data": {
      "text/plain": [
       "{'Green', 'White'}"
      ]
     },
     "execution_count": 30,
     "metadata": {},
     "output_type": "execute_result"
    }
   ],
   "source": [
    "# Write a Python program to find common items in two lists. \n",
    "# INPUT: color1 = \"Red\", \"Green\", \"Orange\", \"White\" color2 = \"Black\", \"Green\", \"White\", \"Pink\" OUTPUT: {'Green', 'White'}\n",
    "\n",
    "color1 =  \"Red\", \"Green\", \"Orange\", \"White\"\n",
    "color2 = \"Black\", \"Green\", \"White\", \"Pink\"\n",
    "\n",
    "# We can convert to set and intersect to find common items\n",
    "\n",
    "set1 = set(color1)\n",
    "set2 = set(color2)\n",
    "\n",
    "result = set1.intersection(set2)\n",
    "\n",
    "result"
   ]
  },
  {
   "cell_type": "code",
   "execution_count": 40,
   "id": "1300cdf7-2315-4dc3-bb51-60177d10be58",
   "metadata": {},
   "outputs": [
    {
     "data": {
      "text/plain": [
       "['p1', 'q1', 'p2', 'q2', 'p3', 'q3', 'p4', 'q4', 'p5', 'q5']"
      ]
     },
     "execution_count": 40,
     "metadata": {},
     "output_type": "execute_result"
    }
   ],
   "source": [
    "# Write a Python program to create a list by concatenating a given list with a range from 1 to n. INPUT : ['p', 'q'] and n = 5 \n",
    "# OUTPUT: ['p1', 'q1', 'p2', 'q2', 'p3', 'q3', 'p4', 'q4', 'p5', 'q5']\n",
    "\n",
    "inputs = [\"p\",\"q\"]\n",
    "n=5\n",
    "\n",
    "#Creating a empty list to get the concatenated values\n",
    "output = []\n",
    "\n",
    "# Creating nested for loop to loop through n times\n",
    "\n",
    "for concatenate in range(1,n+1):\n",
    "    for input in inputs:\n",
    "        output.append(input+str(concatenate))\n",
    "\n",
    "output\n",
    "    "
   ]
  },
  {
   "cell_type": "code",
   "execution_count": 50,
   "id": "8537bf92-74a9-4d96-9d2a-4b02f6c55a86",
   "metadata": {},
   "outputs": [
    {
     "data": {
      "text/plain": [
       "113350"
      ]
     },
     "execution_count": 50,
     "metadata": {},
     "output_type": "execute_result"
    }
   ],
   "source": [
    "# Write a Python program to convert a list of multiple integers into a single integer. INPUT: [11, 33, 50] OUTPUT 113350\n",
    "\n",
    "inputs =  [11, 33, 50]\n",
    "\n",
    "# Creating an empty string to concatenate\n",
    "output = \"\"\n",
    "\n",
    "# Iterating the values and concatenate the values\n",
    "\n",
    "for input in inputs:\n",
    "    output += str(input)\n",
    "\n",
    "#Converting string to integer\n",
    "\n",
    "result = int(output)\n",
    "\n",
    "result\n"
   ]
  },
  {
   "cell_type": "code",
   "execution_count": 53,
   "id": "ebb1ae0a-a379-4fe0-af41-0f1cd49440e4",
   "metadata": {},
   "outputs": [
    {
     "name": "stdout",
     "output_type": "stream",
     "text": [
      "Var1 = ('Black', '#000000', 'rgb(0, 0, 0)')\n",
      "Var2 = ('Red', '#FF0000', 'rgb(255, 0, 0)')\n",
      "Var3 = ('Yellow', '#FFFF00', 'rgb(255, 255, 0)')\n"
     ]
    }
   ],
   "source": [
    "# Write a Python program to split a list into different variables. \n",
    "# INPUT: color = [(\"Black\", \"#000000\", \"rgb(0, 0, 0)\"), (\"Red\", \"#FF0000\", \"rgb(255, 0, 0)\"), (\"Yellow\", \"#FFFF00\", \"rgb(255, 255, 0)\")]\n",
    "# OUTPUT: Var1= ('Black', '#000000', 'rgb(0, 0, 0)') Var2= ('Red', '#FF0000', 'rgb(255, 0, 0)') Var3 = ('Yellow', '#FFFF00', 'rgb(255, 255, 0)')\n",
    "\n",
    "color =  [(\"Black\", \"#000000\", \"rgb(0, 0, 0)\"), (\"Red\", \"#FF0000\", \"rgb(255, 0, 0)\"), (\"Yellow\", \"#FFFF00\", \"rgb(255, 255, 0)\")]\n",
    "\n",
    "# Unpacking the tuples to form 3 variables\n",
    "\n",
    "var1, var2, var3 = color\n",
    "\n",
    "# Using formatted string literals to get the desired output\n",
    "\n",
    "print(f\"Var1 = {var1}\")\n",
    "print(f\"Var2 = {var2}\")\n",
    "print(f\"Var3 = {var3}\")"
   ]
  },
  {
   "cell_type": "code",
   "execution_count": 58,
   "id": "b8be4b11-111e-4ba7-844e-d7e36e3af3a3",
   "metadata": {},
   "outputs": [
    {
     "data": {
      "text/plain": [
       "[['a', 'd', 'g', 'j', 'm'], ['b', 'e', 'h', 'k', 'n'], ['c', 'f', 'i', 'l']]"
      ]
     },
     "execution_count": 58,
     "metadata": {},
     "output_type": "execute_result"
    }
   ],
   "source": [
    "# Write a Python program to split a list every Nth element. INPUT: ['a', 'b', 'c', 'd', 'e', 'f', 'g', 'h', 'i', 'j', 'k', 'l', 'm', 'n']\n",
    "#OUTPUT: [['a', 'd', 'g', 'j', 'm'], ['b', 'e', 'h', 'k', 'n'], ['c', 'f', 'i', 'l']]\n",
    "\n",
    "inputs = ['a', 'b', 'c', 'd', 'e', 'f', 'g', 'h', 'i', 'j', 'k', 'l', 'm', 'n']\n",
    "\n",
    "# based on the output lets take n = 3 since there is 3 sublists\n",
    "\n",
    "n = 3\n",
    "\n",
    "# Creating an empty list to get the sub_lists\n",
    "result = []\n",
    "\n",
    "# creating a empty sublists using for loop inside the result\n",
    "\n",
    "for sub_list in range(n):\n",
    "    result.append([])\n",
    "\n",
    "# appending the values in sub_lists using index\n",
    "\n",
    "for index in range(len(inputs)):\n",
    "    # To get the particular sub_list we can go for %\n",
    "    result_index = index % n\n",
    "    # appending in sublist\n",
    "    result[result_index].append(inputs[index])\n",
    "\n",
    "result"
   ]
  },
  {
   "cell_type": "code",
   "execution_count": 64,
   "id": "c7c5b3d4-3234-46e4-98f2-0d560dbb5f81",
   "metadata": {},
   "outputs": [
    {
     "name": "stdout",
     "output_type": "stream",
     "text": [
      "A1=4 A2=8 A3=3\n"
     ]
    }
   ],
   "source": [
    "# Write a Python program to unpack a tuple into several variables. INPUT: (4,8,3) OUTPUT: A1=4 A2=8 A3-3\n",
    "\n",
    "inputs = (4,8,3)\n",
    "\n",
    "# Unpacking the tuple\n",
    "\n",
    "A1, A2, A3 = inputs\n",
    "\n",
    "# Getting desired output using format string literals\n",
    "\n",
    "print(f\"A1={A1} A2={A2} A3={A3}\")\n"
   ]
  },
  {
   "cell_type": "code",
   "execution_count": 65,
   "id": "51e6af64-46e6-436d-b829-d113d656fba8",
   "metadata": {},
   "outputs": [
    {
     "data": {
      "text/plain": [
       "False"
      ]
     },
     "execution_count": 65,
     "metadata": {},
     "output_type": "execute_result"
    }
   ],
   "source": [
    "# Write a Python program to check whether an element (5) exists within a tuple. INPUT: (\"w\", 3, \"r\", \"e\", \"s\", \"o\", \"u\", \"r\", \"c\", \"e\") OUTPUT: FALSE\n",
    "\n",
    "input = (\"w\", 3, \"r\", \"e\", \"s\", \"o\", \"u\", \"r\", \"c\", \"e\")\n",
    "\n",
    "# checking element (5) exists in tuple\n",
    "\n",
    "5 in input"
   ]
  },
  {
   "cell_type": "code",
   "execution_count": 68,
   "id": "5e4f64bd-5d26-49d1-b05a-aca073f6072a",
   "metadata": {},
   "outputs": [
    {
     "data": {
      "text/plain": [
       "(20, 15, 10, 5)"
      ]
     },
     "execution_count": 68,
     "metadata": {},
     "output_type": "execute_result"
    }
   ],
   "source": [
    "# Write a Python program to reverse a tuple. INPUT: (5,10,15,20) OUTPUT: (20,15,10,5)\n",
    "\n",
    "input = (5,10,15,20)\n",
    "\n",
    "input[::-1]"
   ]
  },
  {
   "cell_type": "code",
   "execution_count": 69,
   "id": "f03ac49a-a1a7-464a-9056-92a27ce9149c",
   "metadata": {},
   "outputs": [
    {
     "name": "stdout",
     "output_type": "stream",
     "text": [
      "This is a tuple (100, 200, 300)\n"
     ]
    }
   ],
   "source": [
    "# Write a Python program to print a tuple with string formatting. INPUT: (100, 200, 300) OUTPUT: This is a tuple (100, 200, 300)\n",
    "\n",
    "input = (100, 200, 300)\n",
    "print(\"This is a tuple\", input)"
   ]
  },
  {
   "cell_type": "code",
   "execution_count": 73,
   "id": "7dbd98ea-fcc4-4521-bcdd-082cb8e801e5",
   "metadata": {},
   "outputs": [
    {
     "data": {
      "text/plain": [
       "[('',), ('a', 'b'), ('a', 'b', 'c'), 'd']"
      ]
     },
     "execution_count": 73,
     "metadata": {},
     "output_type": "execute_result"
    }
   ],
   "source": [
    "# Write a Python program to remove an empty tuple(s) from a list of tuples. \n",
    "# INPUT: [(), (), ('',), ('a', 'b'), ('a', 'b', 'c'), ('d')] OUTPUT: [('',), ('a', 'b'), ('a', 'b', 'c'), 'd']\n",
    "\n",
    "inputs = [(), (), ('',), ('a', 'b'), ('a', 'b', 'c'), ('d')]\n",
    "\n",
    "output = []\n",
    "\n",
    "# itterating and checking for empty tuples\n",
    "for index in range(len(inputs)):\n",
    "    #Checking for empty tuples\n",
    "    if inputs[index] != ():\n",
    "        output.append(inputs[index])\n",
    "\n",
    "output\n",
    "    \n"
   ]
  },
  {
   "cell_type": "code",
   "execution_count": 77,
   "id": "2864c836-5aca-4563-bb3a-b678e2c5944c",
   "metadata": {},
   "outputs": [
    {
     "data": {
      "text/plain": [
       "('S', 'h', 'a', 'i', 'l', 'j', 'a')"
      ]
     },
     "execution_count": 77,
     "metadata": {},
     "output_type": "execute_result"
    }
   ],
   "source": [
    "# Write a Python program to convert a given string to a tuple. INPUT: “Shailja” OUTPUT:(‘’s’,’h,’a’,’i’,’l’,’j’,’a’)\n",
    "\n",
    "input = \"Shailja\"\n",
    "\n",
    "# Creating a empty list to seperate the characters\n",
    "\n",
    "list = []\n",
    "\n",
    "for char in input:\n",
    "    list.append(char)\n",
    "\n",
    "#Convering the list to tuple\n",
    "\n",
    "result = tuple(list)\n",
    "\n",
    "result"
   ]
  },
  {
   "cell_type": "code",
   "execution_count": 20,
   "id": "51f249f5-2705-46cf-8b46-4ae63c5c0b33",
   "metadata": {},
   "outputs": [
    {
     "data": {
      "text/plain": [
       "(6, 9, 8, 6)"
      ]
     },
     "execution_count": 20,
     "metadata": {},
     "output_type": "execute_result"
    }
   ],
   "source": [
    "# Write a Python program to compute the element-wise sum of given tuples. INPUT: (1, 2, 3, 4) (3, 5, 2, 1) (2, 2, 3, 1) OUTPUT: (6, 9, 8, 6)\n",
    "\n",
    "inputs = (1, 2, 3, 4),(3, 5, 2, 1),(2, 2, 3, 1)\n",
    "\n",
    "# Creating an empty list to append the value since tuple is immutable\n",
    "output = []\n",
    "\n",
    "#Since all tuples should have equal elements to add we take the length of 1st tuple\n",
    "for index in range(len(inputs[0])):\n",
    "# Creating variable to collect the sum\n",
    "    sum_of_elements = 0\n",
    "    for input in inputs:\n",
    "        sum_of_elements += input[index]\n",
    "    output.append(sum_of_elements)\n",
    "        \n",
    "\n",
    "result = tuple(output)\n",
    "\n",
    "result            "
   ]
  },
  {
   "cell_type": "code",
   "execution_count": 22,
   "id": "6c919054-3cec-4be7-afff-f80b47066719",
   "metadata": {},
   "outputs": [
    {
     "data": {
      "text/plain": [
       "[[1, 2], [2, 3], [3, 4]]"
      ]
     },
     "execution_count": 22,
     "metadata": {},
     "output_type": "execute_result"
    }
   ],
   "source": [
    "# Write a Python program to convert a given list of tuples to a list of lists. INPUT: [(1, 2), (2, 3), (3, 4)] OUTPUT: [[1, 2], [2, 3], [3, 4]]\n",
    "\n",
    "inputs = [(1, 2), (2, 3), (3, 4)]\n",
    "\n",
    "# Creating empty list to append the converted tuple\n",
    "output = []\n",
    "\n",
    "# itereate the values from input and converting to list\n",
    "\n",
    "for index in range(len(inputs)):\n",
    "    output.append(list(inputs[index]))\n",
    "\n",
    "output\n",
    "    \n"
   ]
  },
  {
   "cell_type": "code",
   "execution_count": 25,
   "id": "d990cfeb-7389-47ca-b17c-0ef2a96dd13f",
   "metadata": {},
   "outputs": [
    {
     "data": {
      "text/plain": [
       "set()"
      ]
     },
     "execution_count": 25,
     "metadata": {},
     "output_type": "execute_result"
    }
   ],
   "source": [
    "# Write a Python program to remove all elements from a given set at once. INPUT: {'Green', 'Black', 'Red', 'White'} OUTPUT: set()\n",
    "\n",
    "input = {'Green', 'Black', 'Red', 'White'}\n",
    "\n",
    "input.clear()\n",
    "\n",
    "input"
   ]
  },
  {
   "cell_type": "code",
   "execution_count": 36,
   "id": "d594c372-b0c2-471a-9d5c-f28262a08c43",
   "metadata": {},
   "outputs": [
    {
     "name": "stdout",
     "output_type": "stream",
     "text": [
      "False (as 4 is common)\n"
     ]
    }
   ],
   "source": [
    "# Write a Python program to check if two given sets have no elements in common.\n",
    "# INPUT: S1={1, 2, 3, 4} S2={4, 5, 6, 7} OUTPUT: False( as 4 is common)\n",
    "\n",
    "set1 = {1,2,3,4}\n",
    "set2 = {4,5,6,7}\n",
    "\n",
    "# Convert the set to list to compare \n",
    "\n",
    "list1 = list(set1)\n",
    "list2 = list(set2)\n",
    "\n",
    "for index in range(len(list1)):\n",
    "    for value in list2:\n",
    "        if(list1[index] == value):\n",
    "            # Using formal string literals to get the desired value\n",
    "            print(False, (f\"(as {list1[index]} is common)\"))\n",
    "            break\n"
   ]
  },
  {
   "cell_type": "code",
   "execution_count": 37,
   "id": "0c737efe-b944-4b5a-8fd2-0a2728432a28",
   "metadata": {},
   "outputs": [
    {
     "name": "stdout",
     "output_type": "stream",
     "text": [
      "False\n"
     ]
    }
   ],
   "source": [
    "# Write a Python program to check if a given value(10) is present in a set or not. INPUT:{1, 3, 5, 7, 9, 11} OUTPUT: False\n",
    "\n",
    "input = {1, 3, 5, 7, 9, 11}\n",
    "\n",
    "value = 10\n",
    "\n",
    "# Checking value is present in input\n",
    "\n",
    "if value in input:\n",
    "    print(True)\n",
    "else:\n",
    "    print(False)"
   ]
  },
  {
   "cell_type": "code",
   "execution_count": 41,
   "id": "39c453c8-739a-42c9-9c2b-a708e2998d51",
   "metadata": {},
   "outputs": [
    {
     "data": {
      "text/plain": [
       "['Practice', 'Exercises', 'Python', 'Solution']"
      ]
     },
     "execution_count": 41,
     "metadata": {},
     "output_type": "execute_result"
    }
   ],
   "source": [
    "# Write a Python program to remove all duplicates from a given list of strings and return a list of unique strings. Use the Python set data type. \n",
    "# INPUT: ['Python', 'Exercises', 'Practice', 'Solution', 'Exercises']\n",
    "# OUTPUT:['Solution', 'Python', 'Exercises', 'Practice']\n",
    "\n",
    "input = ['Python', 'Exercises', 'Practice', 'Solution', 'Exercises']\n",
    "\n",
    "# Converting to set to remove duplicates\n",
    "output = set(input)\n",
    "\n",
    "# Converting to list as per the output\n",
    "final_result = list(output)\n",
    "\n",
    "final_result"
   ]
  },
  {
   "cell_type": "code",
   "execution_count": 43,
   "id": "247dce40-21cf-49bc-bde1-1e8f81a6319f",
   "metadata": {},
   "outputs": [
    {
     "data": {
      "text/plain": [
       "{0: 10, 1: 20, 2: 30}"
      ]
     },
     "execution_count": 43,
     "metadata": {},
     "output_type": "execute_result"
    }
   ],
   "source": [
    "# Write a Python script to add a key to a dictionary. Input: 0: 10, 1: 20} Output: {0: 10, 1: 20, 2: 30}\n",
    "\n",
    "input = {0: 10, 1: 20}\n",
    "\n",
    "input[2] = 30\n",
    "\n",
    "input"
   ]
  },
  {
   "cell_type": "code",
   "execution_count": 51,
   "id": "73c4bf83-06ab-49a2-bb21-82955c2f3eec",
   "metadata": {},
   "outputs": [
    {
     "data": {
      "text/plain": [
       "{'1': 10, '2': 20, '3': 30, '4': 40, '5': 50, '6': 60}"
      ]
     },
     "execution_count": 51,
     "metadata": {},
     "output_type": "execute_result"
    }
   ],
   "source": [
    "# Write a Python script to concatenate the following dictionaries to create a new one.\n",
    "# Input: dic1= {1:10, 2:20} dic2= {3:30, 4:40} dic3={5:50,6:60} Output: {1: 10, 2: 20, 3: 30, 4: 40, 5: 50, 6: 60}\n",
    "\n",
    "dict1 = {1: 10, 2: 20}\n",
    "dict2 = {3: 30, 4: 40}\n",
    "dict3 = {5: 50, 6: 60}\n",
    "\n",
    "# Converting keys to strings\n",
    "dict1_str = {str(key): value for key, value in dict1.items()}\n",
    "dict2_str = {str(key): value for key, value in dict2.items()}\n",
    "dict3_str = {str(key): value for key, value in dict3.items()}\n",
    "\n",
    "final_dict = dict(**dict1_str, **dict2_str, **dict3_str)\n",
    "\n",
    "final_dict"
   ]
  },
  {
   "cell_type": "code",
   "execution_count": 53,
   "id": "325b2372-ce0f-4a67-9d18-5295a11a4ff7",
   "metadata": {},
   "outputs": [
    {
     "name": "stdout",
     "output_type": "stream",
     "text": [
      "\"Key 10 is not present in the dictionary\"\n"
     ]
    }
   ],
   "source": [
    "# Write a Python script to check whether a given key (10) already exists in a dictionary. \n",
    "# Input: 1: 10, 2: 20, 3: 30, 4: 40, 5: 50, 6: 60} Output:” Key 10 is not present in the dictionary”\n",
    "\n",
    "input = {1: 10, 2: 20, 3: 30, 4: 40, 5: 50, 6: 60}\n",
    "key_check = 10\n",
    "\n",
    "# Storing Key values to check the key\n",
    "key_value = input.keys()\n",
    "\n",
    "if key_check in key_value:\n",
    "    print(f'\"Key {key_check} is present in the dictionary\"')\n",
    "else:\n",
    "    print(f'\"Key {key_check} is not present in the dictionary\"')\n",
    "\n",
    "\n"
   ]
  },
  {
   "cell_type": "code",
   "execution_count": 54,
   "id": "a5046670-9e1e-45d6-bb51-4d09de0a3bb5",
   "metadata": {},
   "outputs": [
    {
     "data": {
      "text/plain": [
       "{'name': 'John Doe',\n",
       " 'occupation': 'Software Engineer',\n",
       " 'email': 'john@example.com',\n",
       " 'is_employed': True}"
      ]
     },
     "execution_count": 54,
     "metadata": {},
     "output_type": "execute_result"
    }
   ],
   "source": [
    "# Write a Python program to remove a key(age) from a dictionary.\n",
    "# Input: 'name': 'John Doe', 'age': 30, 'occupation': 'Software Engineer', 'email': 'john@example.com','is_employed': True }\n",
    "# Output: 'name': 'John Doe', 'occupation': 'Software Engineer', 'email': 'john@example.com', 'is_employed': True }\n",
    "\n",
    "dict1 = {'name': 'John Doe', 'age': 30, 'occupation': 'Software Engineer', 'email': 'john@example.com','is_employed': True }\n",
    "\n",
    "dict1.pop(\"age\")\n",
    "\n",
    "dict1"
   ]
  },
  {
   "cell_type": "code",
   "execution_count": 4,
   "id": "e8d6f5f3-f139-42e7-92bb-8ae0881fa64a",
   "metadata": {},
   "outputs": [
    {
     "data": {
      "text/plain": [
       "{'a': 1, 'b': 2, 'd': 3, 'f': 4}"
      ]
     },
     "execution_count": 4,
     "metadata": {},
     "output_type": "execute_result"
    }
   ],
   "source": [
    "# Write a Python program to remove duplicates from the dictionary.\n",
    "# Input: {'a': 1, 'b': 2, 'c': 1, 'd': 3, 'e': 2, 'f': 4} Output: {'a': 1, 'b': 2, 'd': 3, 'f': 4}\n",
    "\n",
    "input = {'a': 1, 'b': 2, 'c': 1, 'd': 3, 'e': 2, 'f': 4}\n",
    "\n",
    "# Creating an empty dictionary\n",
    "unique_dict = {}\n",
    "\n",
    "# Creating an empty list to compare the values\n",
    "\n",
    "seen_values = []\n",
    "\n",
    "for key, value in input.items():\n",
    "    if value not in seen_values:\n",
    "        unique_dict[key] = value\n",
    "        seen_values.append(value)\n",
    "\n",
    "unique_dict\n",
    "    "
   ]
  },
  {
   "cell_type": "code",
   "execution_count": 12,
   "id": "5bc7a206-d384-4442-8a67-cdea4834d7f8",
   "metadata": {},
   "outputs": [
    {
     "name": "stdout",
     "output_type": "stream",
     "text": [
      "Maximum Value: 5874\n",
      "Minimum Value: 500\n"
     ]
    }
   ],
   "source": [
    "# Write a Python program to get the maximum and minimum values of a dictionary.\n",
    "# Input: {‘u’:1000,’v’:3000,'x':500, 'y':5874, 'z': 560} Output: Maximum Value: 5874 Minimum Value: 500\n",
    "\n",
    "inputs = {'u':1000,'v':3000,'x':500, 'y':5874, 'z': 560}\n",
    "\n",
    "# Creating an empty list to get the values\n",
    "value_list = []\n",
    "\n",
    "for input in inputs.values():\n",
    "    value_list.append(input)\n",
    "\n",
    "value_list.sort()\n",
    "\n",
    "print(\"Maximum Value:\", value_list[-1])\n",
    "print(\"Minimum Value:\", value_list[0])"
   ]
  },
  {
   "cell_type": "code",
   "execution_count": 14,
   "id": "f012e21d-5a82-426a-8414-169154569d86",
   "metadata": {},
   "outputs": [
    {
     "name": "stdout",
     "output_type": "stream",
     "text": [
      "Dictionary is Empty\n"
     ]
    }
   ],
   "source": [
    " # Write a Python program to check if a dictionary is empty or not. Input: my_dict = {} Output: ”Dictionary is Empty”\n",
    "\n",
    "my_dict = {}\n",
    "\n",
    "# Checking the length of dictionary with conditional operator\n",
    "\n",
    "if len(my_dict) == 0 :\n",
    "    print(\"Dictionary is Empty\")"
   ]
  },
  {
   "cell_type": "code",
   "execution_count": 18,
   "id": "872c1f21-09a2-4a12-9233-ad127dfe2dd4",
   "metadata": {},
   "outputs": [
    {
     "name": "stdout",
     "output_type": "stream",
     "text": [
      "15\n",
      "25\n",
      "35\n"
     ]
    }
   ],
   "source": [
    "# Write a Python program to create a dictionary of keys x, y, and z where each key has as value a list from 11-20, 21-30, and 31-40 respectively. Access the fifth value of each key from the dictionary.\n",
    "# Input: {'x': [11, 12, 13, 14, 15, 16, 17, 18, 19], 'y': [21, 22, 23, 24, 25, 26, 27, 28, 29], 'z': [31, 32, 33, 34, 35, 36, 37, 38, 39]} \n",
    "# Output: 15 25 35\n",
    "\n",
    "input = {'x': [11, 12, 13, 14, 15, 16, 17, 18, 19], 'y': [21, 22, 23, 24, 25, 26, 27, 28, 29], 'z': [31, 32, 33, 34, 35, 36, 37, 38, 39]} \n",
    "\n",
    "# iterating the values \n",
    "\n",
    "for value in input.values():\n",
    "    print(value[4])"
   ]
  },
  {
   "cell_type": "code",
   "execution_count": 20,
   "id": "8b2b43cb-cacd-4bfa-90b6-7143981829df",
   "metadata": {},
   "outputs": [
    {
     "data": {
      "text/plain": [
       "{'c1': 'Red', 'c2': 'Green'}"
      ]
     },
     "execution_count": 20,
     "metadata": {},
     "output_type": "execute_result"
    }
   ],
   "source": [
    "# Write a Python program to drop empty items from a given dictionary.\n",
    "# Input: {'c1': 'Red', 'c2': 'Green', 'c3': None} Output: {'c1': 'Red', 'c2': 'Green'}\n",
    "\n",
    "input = {'c1': 'Red', 'c2': 'Green', 'c3': None}\n",
    "\n",
    "# We can remove using pop method\n",
    "input.pop(\"c3\")\n",
    "\n",
    "input\n",
    "    "
   ]
  },
  {
   "cell_type": "code",
   "execution_count": 22,
   "id": "5f0d5dfa-3d79-436c-b25a-f559e72671c1",
   "metadata": {},
   "outputs": [
    {
     "data": {
      "text/plain": [
       "{'Cierra Vega': 175, 'Alden Cantrell': 180, 'Pierre Cox': 190}"
      ]
     },
     "execution_count": 22,
     "metadata": {},
     "output_type": "execute_result"
    }
   ],
   "source": [
    "# Write a Python program to filter a dictionary based on values>170 \n",
    "# Input : {'Cierra Vega': 175, 'Alden Cantrell': 180, 'Kierra Gentry': 165, 'Pierre Cox': 190}\n",
    "# Output : {'Cierra Vega': 175, 'Alden Cantrell': 180, 'Pierre Cox': 190}\n",
    "\n",
    "input = {'Cierra Vega': 175, 'Alden Cantrell': 180, 'Kierra Gentry': 165, 'Pierre Cox': 190}\n",
    "\n",
    "# Creating an empty dictionary for the values > 170\n",
    "filtered_dict = {}\n",
    "\n",
    "for key,value in input.items():\n",
    "    if value > 170:\n",
    "        filtered_dict[key] = value\n",
    "\n",
    "filtered_dict\n",
    "    "
   ]
  },
  {
   "cell_type": "code",
   "execution_count": 26,
   "id": "c862e2b6-2556-4df6-a74d-0771f297b050",
   "metadata": {},
   "outputs": [
    {
     "name": "stdout",
     "output_type": "stream",
     "text": [
      "All values are 12\n"
     ]
    }
   ],
   "source": [
    "# Write a Python program to verify that all values in a dictionary are the same. \n",
    "# Input: {'Cierra Vega': 12, 'Alden Cantrell': 12, 'Kierra Gentry': 12, 'Pierre Cox': 12} Output: “ All values are 12”\n",
    "\n",
    "input = {'Cierra Vega': 12, 'Alden Cantrell': 12, 'Kierra Gentry': 12, 'Pierre Cox': 12}\n",
    "\n",
    "# Creating a Empty value list to compare them\n",
    "\n",
    "value_list = []\n",
    "\n",
    "# iterating values in value_list\n",
    "for value in input.values():\n",
    "    value_list.append(value)\n",
    "\n",
    "# Creating all_values_same to ensure that after iteration all values are same\n",
    "all_values_same = True\n",
    "\n",
    "#iterating the first value with all other values to check whether all values are same\n",
    "\n",
    "for value in value_list:\n",
    "    if value_list[0] != value :\n",
    "        all_values_same = False\n",
    "\n",
    "if(all_values_same) == True :\n",
    "    print(f\"All values are {value_list[0]}\")\n",
    "else:\n",
    "    print(\"All values are not same\")\n",
    "    "
   ]
  },
  {
   "cell_type": "code",
   "execution_count": 7,
   "id": "a556ce71-b7ef-4a3a-acf3-959be32d9b1c",
   "metadata": {},
   "outputs": [
    {
     "data": {
      "text/plain": [
       "{'V': [4, 6, 10], 'VI': [4, 12], 'VII': [8]}"
      ]
     },
     "execution_count": 7,
     "metadata": {},
     "output_type": "execute_result"
    }
   ],
   "source": [
    "# Write a Python program to filter even numbers from a dictionary of values. \n",
    "# INPUT: {'V': [1, 4, 6, 10], 'VI': [1, 4, 12], 'VII': [1, 3, 8]}\n",
    "# OUTPUT: {'V': [4, 6, 10], 'VI': [4, 12], 'VII': [8]}\n",
    "\n",
    "input = {'V': [1, 4, 6, 10], 'VI': [1, 4, 12], 'VII': [1, 3, 8]}\n",
    "\n",
    "# Creating an empty dictionary to filter the values of even number\n",
    "\n",
    "even_number_dict = {}\n",
    "\n",
    "# iterating the values\n",
    "\n",
    "for keys,values in input.items():\n",
    "    # Creating an empty list for even numbers\n",
    "    even_numbers = []\n",
    "    for value in values:\n",
    "        if value % 2 == 0 :\n",
    "            even_numbers.append(value)\n",
    "\n",
    "        even_number_dict[keys] = even_numbers\n",
    "\n",
    "even_number_dict"
   ]
  },
  {
   "cell_type": "code",
   "execution_count": 10,
   "id": "27f0dc3d-925d-406a-ab18-eb303962c55f",
   "metadata": {},
   "outputs": [
    {
     "data": {
      "text/plain": [
       "{'g': 2, 'o': 3, 'l': 1, 'e': 1, '.': 1, 'c': 1, 'm': 1}"
      ]
     },
     "execution_count": 10,
     "metadata": {},
     "output_type": "execute_result"
    }
   ],
   "source": [
    "# Write a Python program to count the number of characters (character frequency) in a string.\n",
    "# INPUT: google.com OUTPUT: {'g': 2, 'o': 3, 'l': 1, 'e': 1, '.': 1, 'c': 1, 'm': 1}\n",
    "\n",
    "input = \"google.com\"\n",
    "\n",
    "# creating an empty \n",
    "char_freq = {}\n",
    "\n",
    "# iterate through characters\n",
    "\n",
    "for char in input:\n",
    "    # By using get method in dictionary we can collect characters\n",
    "    char_freq[char] = char_freq.get(char,0)+1\n",
    "\n",
    "char_freq"
   ]
  },
  {
   "cell_type": "code",
   "execution_count": 11,
   "id": "4dcc29e6-ce01-448d-af3d-3cda3aad75fa",
   "metadata": {},
   "outputs": [
    {
     "data": {
      "text/plain": [
       "'w3ce'"
      ]
     },
     "execution_count": 11,
     "metadata": {},
     "output_type": "execute_result"
    }
   ],
   "source": [
    "# Write a Python program to get a string made of the first 2 and last 2 characters of a given string. If the string length is less than 2, return the empty string instead.\n",
    "# INPUT: 'w3resource' OUTPUT : 'w3ce'\n",
    "\n",
    "input = 'w3resource'\n",
    "# By using concatenate and index we can get first two and last two strings\n",
    "output = input[0]+input[1]+input[-2]+input[-1]\n",
    "\n",
    "output"
   ]
  },
  {
   "cell_type": "code",
   "execution_count": 16,
   "id": "3cdb0353-56b3-4c4d-b1fd-d369b9f33f87",
   "metadata": {},
   "outputs": [
    {
     "data": {
      "text/plain": [
       "'pytho'"
      ]
     },
     "execution_count": 16,
     "metadata": {},
     "output_type": "execute_result"
    }
   ],
   "source": [
    "# Write a Python program to remove the 5th index character from a nonempty string. INPUT:’Python’ OUTPUT: Pytho\n",
    "\n",
    "input = \"python\"\n",
    "\n",
    "output = input[:5]\n",
    "\n",
    "output"
   ]
  },
  {
   "cell_type": "code",
   "execution_count": 19,
   "id": "3f83afe0-e27f-4500-8427-aabdfb9d9ea3",
   "metadata": {},
   "outputs": [
    {
     "data": {
      "text/plain": [
       "{'the': 2,\n",
       " 'quick': 1,\n",
       " 'brown': 1,\n",
       " 'fox': 1,\n",
       " 'jumps': 1,\n",
       " 'over': 1,\n",
       " 'lazy': 1,\n",
       " 'dog.': 1}"
      ]
     },
     "execution_count": 19,
     "metadata": {},
     "output_type": "execute_result"
    }
   ],
   "source": [
    "# Write a Python program to count the occurrences of each word in a given sentence. \n",
    "# INPUT: ‘the quick brown fox jumps over the lazy dog.’\n",
    "# OUTPUT: {'the': 2, 'jumps': 1, 'brown': 1, 'lazy': 1, 'fox': 1, 'over': 1, 'quick': 1, 'dog.': 1}\n",
    "\n",
    "input = 'the quick brown fox jumps over the lazy dog.'\n",
    "\n",
    "# Splitting the given string \n",
    "splitted_string = input.split(\" \")\n",
    "\n",
    "# Creating empty dictionary to see the count of words\n",
    "occurances = {}\n",
    "\n",
    "for word in splitted_string:\n",
    "    occurances[word] = occurances.get(word,0)+1\n",
    "\n",
    "occurances\n",
    "    \n",
    "\n"
   ]
  },
  {
   "cell_type": "code",
   "execution_count": 5,
   "id": "0904bd01-0715-4a45-bd20-6004735ddb79",
   "metadata": {},
   "outputs": [
    {
     "name": "stdout",
     "output_type": "stream",
     "text": [
      "[[Python]]\n"
     ]
    }
   ],
   "source": [
    "# Write a Python function to insert a string in the middle of a string. INPUT: '[[]]', 'Python') OUTPUT: [[Python]]\n",
    "\n",
    "def insert_function(orginal_str, insert_string):\n",
    "    # finding the middle of the string\n",
    "    middle_str = len(orginal_str)//2\n",
    "    # Concatenating middle_str and orginal_str\n",
    "    final_str = orginal_str[:middle_str] + insert_string + orginal_str[middle_str:]\n",
    "    return final_str\n",
    "\n",
    "final_output = insert_function(\"[[]]\",\"Python\")\n",
    "\n",
    "print(final_output)\n",
    "\n",
    " \n",
    "\n"
   ]
  },
  {
   "cell_type": "code",
   "execution_count": 7,
   "id": "6d72b866-53ed-4d4a-8a45-b3979913fbf7",
   "metadata": {},
   "outputs": [
    {
     "name": "stdout",
     "output_type": "stream",
     "text": [
      "nohtyp\n"
     ]
    }
   ],
   "source": [
    "# Write a Python function to reverse a string if its length is a multiple of 4. INPUT:’python’OUTPUT:’nohtyp’\n",
    "\n",
    "def reverse_function(input):\n",
    "    # Checking the length of string is multiple of 3\n",
    "    if(len(input))% 3 == 0:\n",
    "        return input[::-1]\n",
    "\n",
    "output = reverse_function('python')\n",
    "\n",
    "print(output)  "
   ]
  },
  {
   "cell_type": "code",
   "execution_count": 8,
   "id": "389cfb3a-7dac-408f-a80a-a6dc4afb5942",
   "metadata": {},
   "outputs": [
    {
     "name": "stdout",
     "output_type": "stream",
     "text": [
      "True\n"
     ]
    }
   ],
   "source": [
    "# Write a Python program to check whether a string starts with specified characters (grow) INPUT:” growdataskills” OUTPUT: TRUE\n",
    "\n",
    "input = \"growdataskills\"\n",
    "\n",
    "# Checking the string is specified\n",
    "if(\"grow\" in input):\n",
    "    print(True)"
   ]
  },
  {
   "cell_type": "code",
   "execution_count": 19,
   "id": "96383f6e-c6d5-4916-baee-a7de507e7999",
   "metadata": {},
   "outputs": [
    {
     "data": {
      "text/plain": [
       "'dog. lazy the over jumps fox brown quick The '"
      ]
     },
     "execution_count": 19,
     "metadata": {},
     "output_type": "execute_result"
    }
   ],
   "source": [
    "# Write a Python program to reverse words in a string. \n",
    "# INPUT: \"The quick brown fox jumps over the lazy dog.\" OUPUT: “dog. lazy the over jumps fox brown quick The”\n",
    "\n",
    "input = \"The quick brown fox jumps over the lazy dog.\"\n",
    "\n",
    "# Splitting the words \n",
    "\n",
    "splitted_words = input.split(\" \")\n",
    "\n",
    "#Reverse the list\n",
    "splitted_words.reverse()\n",
    "\n",
    "#converting to string\n",
    "\n",
    "#creating an empty string\n",
    "output = \"\"\n",
    "\n",
    "for word in splitted_words:\n",
    "    output += word+\" \"\n",
    "\n",
    "output"
   ]
  },
  {
   "cell_type": "code",
   "execution_count": 34,
   "id": "66c98935-e5fd-452d-ac87-2ba2f71c1f3b",
   "metadata": {},
   "outputs": [
    {
     "name": "stdout",
     "output_type": "stream",
     "text": [
      "False\n"
     ]
    }
   ],
   "source": [
    "# Write a Python program to check whether a string contains all letters of the alphabet. \n",
    "# INPUT: 'The quick brown fox jumps over the lazy cat OUTPUT:FALSE\n",
    "\n",
    "# To check all letters of alphabets we need a variable to check\n",
    "\n",
    "alphabets = 'abcdefghijklmnopqrstuvwxyz'\n",
    "\n",
    "input = 'The quick brown fox jumps over the lazy cat'\n",
    "\n",
    "#Creating a boolean if there is no alphabet\n",
    "\n",
    "Output = True\n",
    "\n",
    "for alphabet in alphabets:\n",
    "    if(alphabet not in input):\n",
    "        # Changing the boolean if the alphabet is not in the input\n",
    "        Output = False\n",
    "        break\n",
    "\n",
    "print(Output)\n",
    "    \n",
    "    "
   ]
  },
  {
   "cell_type": "code",
   "execution_count": 37,
   "id": "7d00c9ff-c9d4-428d-9d7e-a9f6440321f3",
   "metadata": {},
   "outputs": [
    {
     "name": "stdout",
     "output_type": "stream",
     "text": [
      "4 -> ['e', 'o', 'u', 'e']\n"
     ]
    }
   ],
   "source": [
    "# Write a Python program to count and display vowels in text. INPUT: resource OUTPUT: 4 -> ['e', 'o', 'u', 'e']\n",
    "\n",
    "input = \"resource\"\n",
    "\n",
    "# Creating a vowels list \n",
    "vowels = [\"a\", \"e\", \"i\", \"o\", \"u\"]\n",
    "\n",
    "# creating an empty list to get the vowels from string\n",
    "\n",
    "char_input_vowels = []\n",
    "\n",
    "for char in input:\n",
    "    if char in vowels:\n",
    "        char_input_vowels.append(char)\n",
    "\n",
    "print(len(char_input_vowels), \"->\", char_input_vowels)"
   ]
  },
  {
   "cell_type": "code",
   "execution_count": null,
   "id": "a4374375-3d94-4359-a62f-94f8b7a1d5b6",
   "metadata": {},
   "outputs": [],
   "source": []
  }
 ],
 "metadata": {
  "kernelspec": {
   "display_name": "Python 3 (ipykernel)",
   "language": "python",
   "name": "python3"
  },
  "language_info": {
   "codemirror_mode": {
    "name": "ipython",
    "version": 3
   },
   "file_extension": ".py",
   "mimetype": "text/x-python",
   "name": "python",
   "nbconvert_exporter": "python",
   "pygments_lexer": "ipython3",
   "version": "3.11.4"
  }
 },
 "nbformat": 4,
 "nbformat_minor": 5
}
