{
 "cells": [
  {
   "cell_type": "code",
   "execution_count": 7,
   "id": "3bb5db14-dab6-4d90-a083-e1ee724f760a",
   "metadata": {},
   "outputs": [
    {
     "data": {
      "text/plain": [
       "array([ 1,  2,  3,  4,  5,  6,  7,  8,  9, 10])"
      ]
     },
     "execution_count": 7,
     "metadata": {},
     "output_type": "execute_result"
    }
   ],
   "source": [
    "# Create a NumPy array containing integers from 1 to 10.\n",
    "\n",
    "import numpy as np\n",
    "\n",
    "arr =  np.array([1,2,3,4,5,6,7,8,9,10])\n",
    "\n",
    "arr"
   ]
  },
  {
   "cell_type": "code",
   "execution_count": 2,
   "id": "49ef35e4-be16-443b-8b16-3689e3f128ab",
   "metadata": {},
   "outputs": [
    {
     "name": "stdout",
     "output_type": "stream",
     "text": [
      "[[0.60664362 0.61804254 0.62651185 0.93785639]\n",
      " [0.57936961 0.64924798 0.11884568 0.54180063]\n",
      " [0.57054716 0.0250936  0.99739244 0.26958332]]\n"
     ]
    }
   ],
   "source": [
    "# Create a 2D NumPy array with shape (3, 4) filled with random float values between 0 and 1.\n",
    "\n",
    "random_array = np.random.rand(3, 4)\n",
    "\n",
    "print(random_array)"
   ]
  },
  {
   "cell_type": "code",
   "execution_count": 3,
   "id": "517a8eb7-ea70-4de9-8b1d-dba32f4aba4d",
   "metadata": {},
   "outputs": [
    {
     "data": {
      "text/plain": [
       "array([15, 25, 35, 45, 55])"
      ]
     },
     "execution_count": 3,
     "metadata": {},
     "output_type": "execute_result"
    }
   ],
   "source": [
    "# Given the following NumPy array: arr = np.array([10, 20, 30, 40, 50]) Add 5 to each element of the array.\n",
    "\n",
    "arr = np.array([10, 20, 30, 40, 50])\n",
    "\n",
    "arr+5"
   ]
  },
  {
   "cell_type": "code",
   "execution_count": 5,
   "id": "cdaafb5e-0035-42a2-be19-866d4ea645fc",
   "metadata": {},
   "outputs": [
    {
     "data": {
      "text/plain": [
       "array([1, 2, 3, 4, 5, 6, 7, 8])"
      ]
     },
     "execution_count": 5,
     "metadata": {},
     "output_type": "execute_result"
    }
   ],
   "source": [
    "# Given two NumPy arrays: arr1 = np.array([1, 2, 3, 4]) arr2 = np.array([5, 6, 7, 8]) Concatenate them into a single array\n",
    "\n",
    "arr1 = np.array([1, 2, 3, 4])\n",
    "arr2 = np.array([5, 6, 7, 8])\n",
    "\n",
    "single_array = np.hstack((arr1,arr2))\n",
    "\n",
    "single_array"
   ]
  },
  {
   "cell_type": "code",
   "execution_count": 6,
   "id": "e86ec692-f0c9-4a5f-a115-1219fa484814",
   "metadata": {},
   "outputs": [
    {
     "name": "stdout",
     "output_type": "stream",
     "text": [
      "[0 1 2 3 4 5 6 7 8 9]\n"
     ]
    }
   ],
   "source": [
    "# Create a NumPy array of 10 elements with equally spaced values from 0 to 9.\n",
    "\n",
    "equally_spaced_array = np.arange(10)\n",
    "\n",
    "print(equally_spaced_array)"
   ]
  },
  {
   "cell_type": "code",
   "execution_count": 8,
   "id": "aeebb213-7bb8-421a-bf56-b500a2e1d731",
   "metadata": {},
   "outputs": [
    {
     "data": {
      "text/plain": [
       "array([6, 5, 4, 3, 2, 1])"
      ]
     },
     "execution_count": 8,
     "metadata": {},
     "output_type": "execute_result"
    }
   ],
   "source": [
    "# Given a NumPy array: arr = np.array([1, 2, 3, 4, 5, 6]) Reverse the elements in the array.\n",
    "\n",
    "arr = np.array([1, 2, 3, 4, 5, 6]) \n",
    "\n",
    "arr[::-1]"
   ]
  },
  {
   "cell_type": "code",
   "execution_count": 9,
   "id": "4f3471c7-24a4-4368-9812-ac6249000c35",
   "metadata": {},
   "outputs": [
    {
     "data": {
      "text/plain": [
       "array([[1., 0., 0.],\n",
       "       [0., 1., 0.],\n",
       "       [0., 0., 1.]])"
      ]
     },
     "execution_count": 9,
     "metadata": {},
     "output_type": "execute_result"
    }
   ],
   "source": [
    "# Create a 3x3 identity matrix using NumPy.\n",
    "\n",
    "identity_matrix = np.identity(3)\n",
    "\n",
    "identity_matrix"
   ]
  },
  {
   "cell_type": "code",
   "execution_count": 33,
   "id": "ff6ca107-88b7-4219-9f9e-d3987394828f",
   "metadata": {},
   "outputs": [
    {
     "name": "stdout",
     "output_type": "stream",
     "text": [
      "25.0\n",
      "25.0\n",
      "7.0710678118654755\n"
     ]
    }
   ],
   "source": [
    "# Calculate the mean, median, and standard deviation of the following NumPy array: arr = np.array([15, 20, 25, 30, 35])\n",
    "\n",
    "arr = np.array([15, 20, 25, 30, 35])\n",
    "\n",
    "arr_mean = np.mean(arr)\n",
    "arr_median = np.median(arr)\n",
    "arr_std = np.std(arr)\n",
    "\n",
    "print(arr_mean)\n",
    "print(arr_median)\n",
    "print(arr_std)\n",
    "\n"
   ]
  },
  {
   "cell_type": "code",
   "execution_count": 35,
   "id": "cdbe9169-cc43-4d3b-9929-ec63fa0d94e7",
   "metadata": {},
   "outputs": [
    {
     "data": {
      "text/plain": [
       "array([1, 5, 9])"
      ]
     },
     "execution_count": 35,
     "metadata": {},
     "output_type": "execute_result"
    }
   ],
   "source": [
    "# Given a 2D NumPy array:arr = np.array([[1, 2, 3], [4, 5, 6], [7, 8, 9]]) Get the diagonal elements of the array.\n",
    "\n",
    "arr = np.array([[1, 2, 3], [4, 5, 6], [7, 8, 9]])\n",
    "\n",
    "arr_diagonal = np.diagonal(arr)\n",
    "\n",
    "arr_diagonal"
   ]
  },
  {
   "cell_type": "code",
   "execution_count": 36,
   "id": "0d575ab0-c837-43f2-b426-18c2c21f5d3d",
   "metadata": {},
   "outputs": [
    {
     "data": {
      "text/plain": [
       "array([12, 80, 88, 42, 11, 87, 46, 56, 20, 16])"
      ]
     },
     "execution_count": 36,
     "metadata": {},
     "output_type": "execute_result"
    }
   ],
   "source": [
    "# Create a NumPy array of 10 random integers between 1 and 100 (inclusive).\n",
    "\n",
    "arr = np.random.randint(1,101, size=10)\n",
    "\n",
    "arr"
   ]
  },
  {
   "cell_type": "code",
   "execution_count": 37,
   "id": "07873f5d-3251-4773-b662-32e0672b912f",
   "metadata": {},
   "outputs": [
    {
     "data": {
      "text/plain": [
       "array([[22, 25, 49, 13, 42],\n",
       "       [40,  2, 14, 40, 24],\n",
       "       [50,  6, 33, 19, 47],\n",
       "       [17, 10, 38, 11, 22],\n",
       "       [11, 28, 16, 21, 31]])"
      ]
     },
     "execution_count": 37,
     "metadata": {},
     "output_type": "execute_result"
    }
   ],
   "source": [
    "# Create a 2D NumPy array of shape (5, 5) with random integers between 1 and 50 (inclusive).\n",
    "\n",
    "random_integers_array = np.random.randint(1, 51, size=(5, 5))\n",
    "\n",
    "random_integers_array"
   ]
  },
  {
   "cell_type": "code",
   "execution_count": 39,
   "id": "5d75ab47-3014-49e2-a113-59b5d4b338e6",
   "metadata": {},
   "outputs": [
    {
     "data": {
      "text/plain": [
       "45"
      ]
     },
     "execution_count": 39,
     "metadata": {},
     "output_type": "execute_result"
    }
   ],
   "source": [
    "# Given a 2D NumPy array: arr = np.array([[1, 2, 3], [4, 5, 6], [7, 8, 9]]) Calculate the sum of all the elements in the array.\n",
    "\n",
    "arr = np.array([[1, 2, 3], [4, 5, 6], [7, 8, 9]])\n",
    "arr_sum = np.sum(arr)\n",
    "arr_sum"
   ]
  },
  {
   "cell_type": "code",
   "execution_count": 44,
   "id": "48511112-5ad6-4cc4-b350-6918ab9f80fb",
   "metadata": {},
   "outputs": [
    {
     "data": {
      "text/plain": [
       "array([[0.        , 0.01010101, 0.02020202, 0.03030303, 0.04040404,\n",
       "        0.05050505, 0.06060606, 0.07070707, 0.08080808, 0.09090909],\n",
       "       [0.1010101 , 0.11111111, 0.12121212, 0.13131313, 0.14141414,\n",
       "        0.15151515, 0.16161616, 0.17171717, 0.18181818, 0.19191919],\n",
       "       [0.2020202 , 0.21212121, 0.22222222, 0.23232323, 0.24242424,\n",
       "        0.25252525, 0.26262626, 0.27272727, 0.28282828, 0.29292929],\n",
       "       [0.3030303 , 0.31313131, 0.32323232, 0.33333333, 0.34343434,\n",
       "        0.35353535, 0.36363636, 0.37373737, 0.38383838, 0.39393939],\n",
       "       [0.4040404 , 0.41414141, 0.42424242, 0.43434343, 0.44444444,\n",
       "        0.45454545, 0.46464646, 0.47474747, 0.48484848, 0.49494949],\n",
       "       [0.50505051, 0.51515152, 0.52525253, 0.53535354, 0.54545455,\n",
       "        0.55555556, 0.56565657, 0.57575758, 0.58585859, 0.5959596 ],\n",
       "       [0.60606061, 0.61616162, 0.62626263, 0.63636364, 0.64646465,\n",
       "        0.65656566, 0.66666667, 0.67676768, 0.68686869, 0.6969697 ],\n",
       "       [0.70707071, 0.71717172, 0.72727273, 0.73737374, 0.74747475,\n",
       "        0.75757576, 0.76767677, 0.77777778, 0.78787879, 0.7979798 ],\n",
       "       [0.80808081, 0.81818182, 0.82828283, 0.83838384, 0.84848485,\n",
       "        0.85858586, 0.86868687, 0.87878788, 0.88888889, 0.8989899 ],\n",
       "       [0.90909091, 0.91919192, 0.92929293, 0.93939394, 0.94949495,\n",
       "        0.95959596, 0.96969697, 0.97979798, 0.98989899, 1.        ]])"
      ]
     },
     "execution_count": 44,
     "metadata": {},
     "output_type": "execute_result"
    }
   ],
   "source": [
    "# Create a NumPy array with 100 evenly spaced values between 0 and 1 (inclusive) and reshape it into a 10x10 matrix.\n",
    "\n",
    "evenly_spaced_array = np.linspace(0, 1, num=100)\n",
    "reshaped_matrix = evenly_spaced_array.reshape(10, 10)\n",
    "reshaped_matrix"
   ]
  },
  {
   "cell_type": "code",
   "execution_count": 48,
   "id": "f1629075-9260-4aed-9ce3-8e06bbd77d05",
   "metadata": {},
   "outputs": [
    {
     "data": {
      "text/plain": [
       "[]"
      ]
     },
     "execution_count": 48,
     "metadata": {},
     "output_type": "execute_result"
    }
   ],
   "source": [
    "# Given two NumPy arrays: import numpy as np arr1 = np.array([1, 2, 3, 4]) arr2 = np.array([5, 6, 7, 8]) Find the common elements between the two arrays.\n",
    "\n",
    "arr1 = np.array([1, 2, 3, 4])\n",
    "arr2 = np.array([5, 6, 7, 8])\n",
    "\n",
    "common_elements = np.intersect1d(arr1, arr2)\n",
    "\n",
    "#There is no common element so output will be []\n",
    "list(common_elements)\n"
   ]
  },
  {
   "cell_type": "code",
   "execution_count": 50,
   "id": "f113a4d5-b0bd-4412-8d78-977300ab5b33",
   "metadata": {},
   "outputs": [
    {
     "data": {
      "text/plain": [
       "array([ 8, 43, 21,  0,  0,  0, 46,  0,  0,  0])"
      ]
     },
     "execution_count": 50,
     "metadata": {},
     "output_type": "execute_result"
    }
   ],
   "source": [
    "# Create a NumPy array containing 10 random integers between -50 and 50 (inclusive). Replace all negative values in the array with 0.\n",
    "random_integers = np.random.randint(-50, 51, size=10)\n",
    "\n",
    "random_integers[random_integers < 0] = 0\n",
    "\n",
    "random_integers"
   ]
  },
  {
   "cell_type": "code",
   "execution_count": 5,
   "id": "c5d025fe-90e5-4db6-bc90-064a1ef883f5",
   "metadata": {},
   "outputs": [
    {
     "name": "stdout",
     "output_type": "stream",
     "text": [
      "[ 6 15 24]\n",
      "[12 15 18]\n"
     ]
    }
   ],
   "source": [
    "# Given a 2D NumPy array: import numpy as np arr = np.array([[1, 2, 3], [4, 5, 6], [7, 8, 9]]) Calculate the sum of each row and each column separately\n",
    "\n",
    "arr = np.array([[1, 2, 3], [4, 5, 6], [7, 8, 9]])\n",
    "\n",
    "row_sums = np.sum(arr, axis=1)\n",
    "\n",
    "col_sums = np.sum(arr, axis = 0)\n",
    "\n",
    "print(row_sums)\n",
    "print(col_sums)"
   ]
  },
  {
   "cell_type": "code",
   "execution_count": 9,
   "id": "9de42e21-38fd-4d16-be7f-8d70bc3d927d",
   "metadata": {},
   "outputs": [
    {
     "data": {
      "text/plain": [
       "array([[1, 0, 0, 0, 0, 0],\n",
       "       [0, 2, 0, 0, 0, 0],\n",
       "       [0, 0, 3, 0, 0, 0],\n",
       "       [0, 0, 0, 4, 0, 0],\n",
       "       [0, 0, 0, 0, 5, 0],\n",
       "       [0, 0, 0, 0, 0, 6]])"
      ]
     },
     "execution_count": 9,
     "metadata": {},
     "output_type": "execute_result"
    }
   ],
   "source": [
    "# Create a NumPy array of shape (6, 6) with diagonal elements as 1, 2, 3, 4, 5, and 6, and all other elements as 0.\n",
    "\n",
    "diagonal_elements = np.array([1,2,3,4,5,6])\n",
    "diagonal_matrix = np.diag(diagonal_elements)\n",
    "\n",
    "diagonal_matrix"
   ]
  },
  {
   "cell_type": "code",
   "execution_count": 11,
   "id": "70c522d9-0a26-4182-a54e-a8cd5881f7ef",
   "metadata": {},
   "outputs": [
    {
     "data": {
      "text/plain": [
       "array([0.  , 0.25, 0.5 , 0.75, 1.  ])"
      ]
     },
     "execution_count": 11,
     "metadata": {},
     "output_type": "execute_result"
    }
   ],
   "source": [
    "# Given a NumPy array: import numpy as np arr = np.array([1, 2, 3, 4, 5]) Normalize the array so that the values range from 0 to 1.\n",
    "\n",
    "# formula for normalized_value = (x - min) / (max - min) where x is the orginal value\n",
    "\n",
    "arr = np.array([1, 2, 3, 4, 5])\n",
    "\n",
    "min_value = np.min(arr)\n",
    "max_value = np.max(arr)\n",
    "\n",
    "normalized_arr = (arr - min_value)/(max_value - min_value)\n",
    "\n",
    "normalized_arr"
   ]
  },
  {
   "cell_type": "code",
   "execution_count": 20,
   "id": "9c5a0ce0-47c2-4b69-8fd0-8d989bf5a96f",
   "metadata": {},
   "outputs": [
    {
     "name": "stdout",
     "output_type": "stream",
     "text": [
      "Array: [53 89 11 65 82 63 61 19 65 37 59 89 48 84 64 99 47  9 63 72]\n",
      "Maximum value: 99\n",
      "Index of maximum value: 15\n"
     ]
    }
   ],
   "source": [
    "# Create a NumPy array with 20 random integers between 1 and 100 (inclusive). Find the maximum value and its index in the array.\n",
    "\n",
    "random_integers = np.random.randint(1,101, size=20)\n",
    "\n",
    "max_value = np.max(random_integers)\n",
    "max_index = np.argmax(random_integers)\n",
    "\n",
    "print(\"Array:\", random_integers)\n",
    "print(\"Maximum value:\", max_value)\n",
    "print(\"Index of maximum value:\", max_index)"
   ]
  },
  {
   "cell_type": "code",
   "execution_count": 21,
   "id": "d0acea73-eac1-4466-9f73-b1400ded2f77",
   "metadata": {},
   "outputs": [
    {
     "name": "stdout",
     "output_type": "stream",
     "text": [
      "Element-wise product: [ 5 12 21 32]\n"
     ]
    }
   ],
   "source": [
    "# Given two NumPy arrays: import numpy as np arr1 = np.array([1, 2, 3, 4]) arr2 = np.array([5, 6, 7, 8]) Compute the element-wise product of the two arrays\n",
    "\n",
    "arr1 = np.array([1, 2, 3, 4])\n",
    "arr2 = np.array([5, 6, 7, 8])\n",
    "\n",
    "elementwise_product = arr1 * arr2\n",
    "print(\"Element-wise product:\", elementwise_product)"
   ]
  },
  {
   "cell_type": "code",
   "execution_count": 6,
   "id": "1de703aa-d2c3-401e-ae2b-b86e13ab618e",
   "metadata": {},
   "outputs": [
    {
     "data": {
      "text/html": [
       "<div>\n",
       "<style scoped>\n",
       "    .dataframe tbody tr th:only-of-type {\n",
       "        vertical-align: middle;\n",
       "    }\n",
       "\n",
       "    .dataframe tbody tr th {\n",
       "        vertical-align: top;\n",
       "    }\n",
       "\n",
       "    .dataframe thead th {\n",
       "        text-align: right;\n",
       "    }\n",
       "</style>\n",
       "<table border=\"1\" class=\"dataframe\">\n",
       "  <thead>\n",
       "    <tr style=\"text-align: right;\">\n",
       "      <th></th>\n",
       "      <th>Series1</th>\n",
       "      <th>Series2</th>\n",
       "      <th>Addition</th>\n",
       "      <th>Subraction</th>\n",
       "      <th>Multiplication</th>\n",
       "      <th>Division</th>\n",
       "    </tr>\n",
       "  </thead>\n",
       "  <tbody>\n",
       "    <tr>\n",
       "      <th>0</th>\n",
       "      <td>2</td>\n",
       "      <td>1</td>\n",
       "      <td>3</td>\n",
       "      <td>1</td>\n",
       "      <td>2</td>\n",
       "      <td>2.000000</td>\n",
       "    </tr>\n",
       "    <tr>\n",
       "      <th>1</th>\n",
       "      <td>4</td>\n",
       "      <td>3</td>\n",
       "      <td>7</td>\n",
       "      <td>1</td>\n",
       "      <td>12</td>\n",
       "      <td>1.333333</td>\n",
       "    </tr>\n",
       "    <tr>\n",
       "      <th>2</th>\n",
       "      <td>6</td>\n",
       "      <td>5</td>\n",
       "      <td>11</td>\n",
       "      <td>1</td>\n",
       "      <td>30</td>\n",
       "      <td>1.200000</td>\n",
       "    </tr>\n",
       "    <tr>\n",
       "      <th>3</th>\n",
       "      <td>8</td>\n",
       "      <td>7</td>\n",
       "      <td>15</td>\n",
       "      <td>1</td>\n",
       "      <td>56</td>\n",
       "      <td>1.142857</td>\n",
       "    </tr>\n",
       "    <tr>\n",
       "      <th>4</th>\n",
       "      <td>10</td>\n",
       "      <td>9</td>\n",
       "      <td>19</td>\n",
       "      <td>1</td>\n",
       "      <td>90</td>\n",
       "      <td>1.111111</td>\n",
       "    </tr>\n",
       "  </tbody>\n",
       "</table>\n",
       "</div>"
      ],
      "text/plain": [
       "   Series1  Series2  Addition  Subraction  Multiplication  Division\n",
       "0        2        1         3           1               2  2.000000\n",
       "1        4        3         7           1              12  1.333333\n",
       "2        6        5        11           1              30  1.200000\n",
       "3        8        7        15           1              56  1.142857\n",
       "4       10        9        19           1              90  1.111111"
      ]
     },
     "execution_count": 6,
     "metadata": {},
     "output_type": "execute_result"
    }
   ],
   "source": [
    "# Write a Pandas program to add, subtract, multiple and divide two Pandas Series. Input: [2, 4, 6, 8, 10], [1, 3, 5, 7, 9]\n",
    "\n",
    "import pandas as pd\n",
    "\n",
    "data1 = [2, 4, 6, 8, 10]\n",
    "data2 = [1, 3, 5, 7, 9]\n",
    "\n",
    "series1 = pd.Series(data1)\n",
    "series2 = pd.Series(data2)\n",
    "\n",
    "add_result = series1 + series2\n",
    "sub_result = series1 - series2\n",
    "mul_result = series1 * series2\n",
    "div_result = series1 / series2\n",
    "\n",
    "results = pd.DataFrame({\n",
    "    \"Series1\": series1,\n",
    "    \"Series2\": series2,\n",
    "    \"Addition\": add_result,\n",
    "    \"Subraction\": sub_result,\n",
    "    \"Multiplication\": mul_result,\n",
    "    \"Division\": div_result\n",
    "})\n",
    "\n",
    "results\n"
   ]
  },
  {
   "cell_type": "code",
   "execution_count": 16,
   "id": "44d918d0-3c7d-4dce-a172-ae95c174c6d9",
   "metadata": {},
   "outputs": [
    {
     "data": {
      "text/html": [
       "<div>\n",
       "<style scoped>\n",
       "    .dataframe tbody tr th:only-of-type {\n",
       "        vertical-align: middle;\n",
       "    }\n",
       "\n",
       "    .dataframe tbody tr th {\n",
       "        vertical-align: top;\n",
       "    }\n",
       "\n",
       "    .dataframe thead th {\n",
       "        text-align: right;\n",
       "    }\n",
       "</style>\n",
       "<table border=\"1\" class=\"dataframe\">\n",
       "  <thead>\n",
       "    <tr style=\"text-align: right;\">\n",
       "      <th></th>\n",
       "      <th>Name</th>\n",
       "      <th>Age</th>\n",
       "      <th>City</th>\n",
       "    </tr>\n",
       "  </thead>\n",
       "  <tbody>\n",
       "    <tr>\n",
       "      <th>0</th>\n",
       "      <td>Alice</td>\n",
       "      <td>25</td>\n",
       "      <td>New York</td>\n",
       "    </tr>\n",
       "    <tr>\n",
       "      <th>1</th>\n",
       "      <td>Bob</td>\n",
       "      <td>30</td>\n",
       "      <td>London</td>\n",
       "    </tr>\n",
       "    <tr>\n",
       "      <th>2</th>\n",
       "      <td>Charlie</td>\n",
       "      <td>22</td>\n",
       "      <td>Paris</td>\n",
       "    </tr>\n",
       "    <tr>\n",
       "      <th>3</th>\n",
       "      <td>David</td>\n",
       "      <td>28</td>\n",
       "      <td>Tokyo</td>\n",
       "    </tr>\n",
       "  </tbody>\n",
       "</table>\n",
       "</div>"
      ],
      "text/plain": [
       "      Name  Age      City\n",
       "0    Alice   25  New York\n",
       "1      Bob   30    London\n",
       "2  Charlie   22     Paris\n",
       "3    David   28     Tokyo"
      ]
     },
     "execution_count": 16,
     "metadata": {},
     "output_type": "execute_result"
    }
   ],
   "source": [
    "# Create a Pandas DataFrame from the following dictionary, where the keys represent columns and the values represent the data: data = { 'Name': ['Alice', 'Bob', 'Charlie', 'David'], 'Age': [25, 30, 22, 28], 'City': ['New York', 'London', 'Paris', 'Tokyo']}\n",
    "\n",
    "data = { 'Name': ['Alice', 'Bob', 'Charlie', 'David'], 'Age': [25, 30, 22, 28], 'City': ['New York', 'London', 'Paris', 'Tokyo']}\n",
    "\n",
    "Person = pd.DataFrame(data)\n",
    "\n",
    "Person"
   ]
  },
  {
   "cell_type": "code",
   "execution_count": 18,
   "id": "17c7f985-3591-4e0d-a3ca-61ece7cfe61d",
   "metadata": {},
   "outputs": [
    {
     "data": {
      "text/html": [
       "<div>\n",
       "<style scoped>\n",
       "    .dataframe tbody tr th:only-of-type {\n",
       "        vertical-align: middle;\n",
       "    }\n",
       "\n",
       "    .dataframe tbody tr th {\n",
       "        vertical-align: top;\n",
       "    }\n",
       "\n",
       "    .dataframe thead th {\n",
       "        text-align: right;\n",
       "    }\n",
       "</style>\n",
       "<table border=\"1\" class=\"dataframe\">\n",
       "  <thead>\n",
       "    <tr style=\"text-align: right;\">\n",
       "      <th></th>\n",
       "      <th>Name</th>\n",
       "      <th>Age</th>\n",
       "      <th>City</th>\n",
       "    </tr>\n",
       "  </thead>\n",
       "  <tbody>\n",
       "    <tr>\n",
       "      <th>0</th>\n",
       "      <td>Alice</td>\n",
       "      <td>25</td>\n",
       "      <td>New York</td>\n",
       "    </tr>\n",
       "    <tr>\n",
       "      <th>1</th>\n",
       "      <td>Bob</td>\n",
       "      <td>30</td>\n",
       "      <td>London</td>\n",
       "    </tr>\n",
       "    <tr>\n",
       "      <th>2</th>\n",
       "      <td>Charlie</td>\n",
       "      <td>22</td>\n",
       "      <td>Paris</td>\n",
       "    </tr>\n",
       "    <tr>\n",
       "      <th>3</th>\n",
       "      <td>David</td>\n",
       "      <td>28</td>\n",
       "      <td>Tokyo</td>\n",
       "    </tr>\n",
       "    <tr>\n",
       "      <th>4</th>\n",
       "      <td>John</td>\n",
       "      <td>24</td>\n",
       "      <td>New Jersey</td>\n",
       "    </tr>\n",
       "  </tbody>\n",
       "</table>\n",
       "</div>"
      ],
      "text/plain": [
       "      Name  Age        City\n",
       "0    Alice   25    New York\n",
       "1      Bob   30      London\n",
       "2  Charlie   22       Paris\n",
       "3    David   28       Tokyo\n",
       "4     John   24  New Jersey"
      ]
     },
     "execution_count": 18,
     "metadata": {},
     "output_type": "execute_result"
    }
   ],
   "source": [
    "# Given a Pandas DataFrame 'df', select the first 5 rows of the DataFrame.\n",
    "\n",
    "data = { 'Name': ['Alice', 'Bob', 'Charlie', 'David','John','Alex'], 'Age': [25, 30, 22, 28, 24, 26], 'City': ['New York', 'London', 'Paris', 'Tokyo','New Jersey','London']}\n",
    "\n",
    "df = pd.DataFrame(data)\n",
    "\n",
    "df.head()"
   ]
  },
  {
   "cell_type": "code",
   "execution_count": 19,
   "id": "93bba59e-ad07-4a9d-8532-3e9f1977fcda",
   "metadata": {},
   "outputs": [
    {
     "data": {
      "text/html": [
       "<div>\n",
       "<style scoped>\n",
       "    .dataframe tbody tr th:only-of-type {\n",
       "        vertical-align: middle;\n",
       "    }\n",
       "\n",
       "    .dataframe tbody tr th {\n",
       "        vertical-align: top;\n",
       "    }\n",
       "\n",
       "    .dataframe thead th {\n",
       "        text-align: right;\n",
       "    }\n",
       "</style>\n",
       "<table border=\"1\" class=\"dataframe\">\n",
       "  <thead>\n",
       "    <tr style=\"text-align: right;\">\n",
       "      <th></th>\n",
       "      <th>Name</th>\n",
       "      <th>Age</th>\n",
       "      <th>City</th>\n",
       "      <th>Salary</th>\n",
       "    </tr>\n",
       "  </thead>\n",
       "  <tbody>\n",
       "    <tr>\n",
       "      <th>0</th>\n",
       "      <td>Alice</td>\n",
       "      <td>25</td>\n",
       "      <td>New York</td>\n",
       "      <td>66216</td>\n",
       "    </tr>\n",
       "    <tr>\n",
       "      <th>1</th>\n",
       "      <td>Bob</td>\n",
       "      <td>30</td>\n",
       "      <td>London</td>\n",
       "      <td>57456</td>\n",
       "    </tr>\n",
       "    <tr>\n",
       "      <th>2</th>\n",
       "      <td>Charlie</td>\n",
       "      <td>22</td>\n",
       "      <td>Paris</td>\n",
       "      <td>77801</td>\n",
       "    </tr>\n",
       "    <tr>\n",
       "      <th>3</th>\n",
       "      <td>David</td>\n",
       "      <td>28</td>\n",
       "      <td>Tokyo</td>\n",
       "      <td>61594</td>\n",
       "    </tr>\n",
       "    <tr>\n",
       "      <th>4</th>\n",
       "      <td>John</td>\n",
       "      <td>24</td>\n",
       "      <td>New Jersey</td>\n",
       "      <td>54251</td>\n",
       "    </tr>\n",
       "    <tr>\n",
       "      <th>5</th>\n",
       "      <td>Alex</td>\n",
       "      <td>26</td>\n",
       "      <td>London</td>\n",
       "      <td>56072</td>\n",
       "    </tr>\n",
       "  </tbody>\n",
       "</table>\n",
       "</div>"
      ],
      "text/plain": [
       "      Name  Age        City  Salary\n",
       "0    Alice   25    New York   66216\n",
       "1      Bob   30      London   57456\n",
       "2  Charlie   22       Paris   77801\n",
       "3    David   28       Tokyo   61594\n",
       "4     John   24  New Jersey   54251\n",
       "5     Alex   26      London   56072"
      ]
     },
     "execution_count": 19,
     "metadata": {},
     "output_type": "execute_result"
    }
   ],
   "source": [
    "# Create a new column 'Salary' in the DataFrame 'df' with random integer values between 50000 and 80000 (inclusive).\n",
    "import numpy as np\n",
    "\n",
    "\n",
    "df[\"Salary\"] = np.random.randint(50000, 80001, size = len(df))\n",
    "\n",
    "df"
   ]
  },
  {
   "cell_type": "code",
   "execution_count": 4,
   "id": "b704d079-59cf-4fbe-908d-c3af1ef12203",
   "metadata": {},
   "outputs": [
    {
     "data": {
      "text/html": [
       "<div>\n",
       "<style scoped>\n",
       "    .dataframe tbody tr th:only-of-type {\n",
       "        vertical-align: middle;\n",
       "    }\n",
       "\n",
       "    .dataframe tbody tr th {\n",
       "        vertical-align: top;\n",
       "    }\n",
       "\n",
       "    .dataframe thead th {\n",
       "        text-align: right;\n",
       "    }\n",
       "</style>\n",
       "<table border=\"1\" class=\"dataframe\">\n",
       "  <thead>\n",
       "    <tr style=\"text-align: right;\">\n",
       "      <th></th>\n",
       "      <th>Name</th>\n",
       "      <th>Age</th>\n",
       "    </tr>\n",
       "  </thead>\n",
       "  <tbody>\n",
       "    <tr>\n",
       "      <th>0</th>\n",
       "      <td>Alice</td>\n",
       "      <td>25</td>\n",
       "    </tr>\n",
       "    <tr>\n",
       "      <th>1</th>\n",
       "      <td>Bob</td>\n",
       "      <td>30</td>\n",
       "    </tr>\n",
       "    <tr>\n",
       "      <th>2</th>\n",
       "      <td>Charlie</td>\n",
       "      <td>22</td>\n",
       "    </tr>\n",
       "    <tr>\n",
       "      <th>0</th>\n",
       "      <td>David</td>\n",
       "      <td>28</td>\n",
       "    </tr>\n",
       "    <tr>\n",
       "      <th>1</th>\n",
       "      <td>Eve</td>\n",
       "      <td>24</td>\n",
       "    </tr>\n",
       "    <tr>\n",
       "      <th>2</th>\n",
       "      <td>Frank</td>\n",
       "      <td>29</td>\n",
       "    </tr>\n",
       "  </tbody>\n",
       "</table>\n",
       "</div>"
      ],
      "text/plain": [
       "      Name  Age\n",
       "0    Alice   25\n",
       "1      Bob   30\n",
       "2  Charlie   22\n",
       "0    David   28\n",
       "1      Eve   24\n",
       "2    Frank   29"
      ]
     },
     "execution_count": 4,
     "metadata": {},
     "output_type": "execute_result"
    }
   ],
   "source": [
    "# Given two Pandas DataFrames 'df1' and 'df2' with the same columns, concatenate them vertically.\n",
    "import pandas as pd\n",
    "\n",
    "data1 = {'Name': ['Alice', 'Bob', 'Charlie'],\n",
    "         'Age': [25, 30, 22]}\n",
    "\n",
    "data2 = {'Name': ['David', 'Eve', 'Frank'],\n",
    "         'Age': [28, 24, 29]}\n",
    "\n",
    "df1 = pd.DataFrame(data1)\n",
    "df2 = pd.DataFrame(data2)\n",
    "\n",
    "data_concat = pd.concat([df1,df2], axis = 0)\n",
    "\n",
    "data_concat"
   ]
  },
  {
   "cell_type": "code",
   "execution_count": 8,
   "id": "adff7685-232f-4a62-ae28-8ff6f0f616a8",
   "metadata": {},
   "outputs": [
    {
     "data": {
      "text/html": [
       "<div>\n",
       "<style scoped>\n",
       "    .dataframe tbody tr th:only-of-type {\n",
       "        vertical-align: middle;\n",
       "    }\n",
       "\n",
       "    .dataframe tbody tr th {\n",
       "        vertical-align: top;\n",
       "    }\n",
       "\n",
       "    .dataframe thead th {\n",
       "        text-align: right;\n",
       "    }\n",
       "</style>\n",
       "<table border=\"1\" class=\"dataframe\">\n",
       "  <thead>\n",
       "    <tr style=\"text-align: right;\">\n",
       "      <th></th>\n",
       "      <th>Name</th>\n",
       "      <th>Age</th>\n",
       "    </tr>\n",
       "  </thead>\n",
       "  <tbody>\n",
       "    <tr>\n",
       "      <th>1</th>\n",
       "      <td>Bob</td>\n",
       "      <td>30</td>\n",
       "    </tr>\n",
       "    <tr>\n",
       "      <th>0</th>\n",
       "      <td>David</td>\n",
       "      <td>28</td>\n",
       "    </tr>\n",
       "    <tr>\n",
       "      <th>2</th>\n",
       "      <td>Frank</td>\n",
       "      <td>29</td>\n",
       "    </tr>\n",
       "  </tbody>\n",
       "</table>\n",
       "</div>"
      ],
      "text/plain": [
       "    Name  Age\n",
       "1    Bob   30\n",
       "0  David   28\n",
       "2  Frank   29"
      ]
     },
     "execution_count": 8,
     "metadata": {},
     "output_type": "execute_result"
    }
   ],
   "source": [
    "# Create a new DataFrame named 'df_filtered' from 'df', containing only rows where the 'Age' column is greater than 25.\n",
    "\n",
    "data_concat\n",
    "\n",
    "df_filtered = data_concat[data_concat[\"Age\"]>25]\n",
    "\n",
    "df_filtered"
   ]
  },
  {
   "cell_type": "code",
   "execution_count": 13,
   "id": "9ccc6012-f9b7-471e-967e-30dfc05459f9",
   "metadata": {},
   "outputs": [
    {
     "data": {
      "text/html": [
       "<div>\n",
       "<style scoped>\n",
       "    .dataframe tbody tr th:only-of-type {\n",
       "        vertical-align: middle;\n",
       "    }\n",
       "\n",
       "    .dataframe tbody tr th {\n",
       "        vertical-align: top;\n",
       "    }\n",
       "\n",
       "    .dataframe thead th {\n",
       "        text-align: right;\n",
       "    }\n",
       "</style>\n",
       "<table border=\"1\" class=\"dataframe\">\n",
       "  <thead>\n",
       "    <tr style=\"text-align: right;\">\n",
       "      <th></th>\n",
       "      <th>Name</th>\n",
       "      <th>Age</th>\n",
       "    </tr>\n",
       "  </thead>\n",
       "  <tbody>\n",
       "    <tr>\n",
       "      <th>0</th>\n",
       "      <td>David</td>\n",
       "      <td>28</td>\n",
       "    </tr>\n",
       "    <tr>\n",
       "      <th>2</th>\n",
       "      <td>Frank</td>\n",
       "      <td>29</td>\n",
       "    </tr>\n",
       "    <tr>\n",
       "      <th>1</th>\n",
       "      <td>Bob</td>\n",
       "      <td>30</td>\n",
       "    </tr>\n",
       "  </tbody>\n",
       "</table>\n",
       "</div>"
      ],
      "text/plain": [
       "    Name  Age\n",
       "0  David   28\n",
       "2  Frank   29\n",
       "1    Bob   30"
      ]
     },
     "execution_count": 13,
     "metadata": {},
     "output_type": "execute_result"
    }
   ],
   "source": [
    "# Given a Pandas DataFrame 'df', sort the DataFrame based on the 'Age' column in ascending order.\n",
    "\n",
    "df_filtered\n",
    "\n",
    "df_sorted = df_filtered.sort_values(by = \"Age\")\n",
    "\n",
    "df_sorted"
   ]
  },
  {
   "cell_type": "code",
   "execution_count": 22,
   "id": "70e0fc3c-8515-4a61-a8f1-c1c14d89952a",
   "metadata": {},
   "outputs": [
    {
     "name": "stdout",
     "output_type": "stream",
     "text": [
      "Mean_Salary: 62231.666666666664\n",
      "Median_Salary: 59525.0\n"
     ]
    }
   ],
   "source": [
    "# Calculate the mean and median of the 'Salary' column in the DataFrame 'df'.\n",
    "\n",
    "mean_salary = df[\"Salary\"].mean()\n",
    "median_salary = df[\"Salary\"].median()\n",
    "\n",
    "print(\"Mean_Salary:\", mean_salary)\n",
    "print(\"Median_Salary:\", median_salary)"
   ]
  },
  {
   "cell_type": "code",
   "execution_count": 27,
   "id": "02248c24-ba85-4fae-9872-9d6c0eb85fec",
   "metadata": {},
   "outputs": [
    {
     "data": {
      "text/plain": [
       "City\n",
       "London        28.0\n",
       "New Jersey    24.0\n",
       "New York      25.0\n",
       "Paris         22.0\n",
       "Tokyo         28.0\n",
       "Name: Age, dtype: float64"
      ]
     },
     "execution_count": 27,
     "metadata": {},
     "output_type": "execute_result"
    }
   ],
   "source": [
    "# Group the DataFrame 'df' by the 'City' column and calculate the mean 'Age' for each group.\n",
    "\n",
    "df\n",
    "\n",
    "age_mean_by_city = df.groupby(\"City\")['Age'].mean()\n",
    "\n",
    "age_mean_by_city"
   ]
  },
  {
   "cell_type": "code",
   "execution_count": 29,
   "id": "04f21d4a-9217-40a4-b9f1-b6a40efc75c5",
   "metadata": {},
   "outputs": [
    {
     "name": "stdout",
     "output_type": "stream",
     "text": [
      "Number of rows: 457\n",
      "Number of columns: 8\n",
      "Top 10 rows:\n",
      "            Name            Team  Number Position  Age  Weight  \\\n",
      "0  Avery Bradley  Boston Celtics       0       PG   25     180   \n",
      "1    Jae Crowder  Boston Celtics      99       SF   25     235   \n",
      "2   John Holland  Boston Celtics      30       SG   27     205   \n",
      "3    R.J. Hunter  Boston Celtics      28       SG   22     185   \n",
      "4  Jonas Jerebko  Boston Celtics       8       PF   29     231   \n",
      "5   Amir Johnson  Boston Celtics      90       PF   29     240   \n",
      "6  Jordan Mickey  Boston Celtics      55       PF   21     235   \n",
      "7   Kelly Olynyk  Boston Celtics      41        C   25     238   \n",
      "8   Terry Rozier  Boston Celtics      12       PG   22     190   \n",
      "9   Marcus Smart  Boston Celtics      36       PG   22     220   \n",
      "\n",
      "             College      Salary  \n",
      "0              Texas   7730337.0  \n",
      "1          Marquette   6796117.0  \n",
      "2  Boston University         NaN  \n",
      "3      Georgia State   1148640.0  \n",
      "4                NaN   5000000.0  \n",
      "5                NaN  12000000.0  \n",
      "6                LSU   1170960.0  \n",
      "7            Gonzaga   2165160.0  \n",
      "8         Louisville   1824360.0  \n",
      "9     Oklahoma State   3431040.0  \n",
      "Bottom 10 rows:\n",
      "               Name       Team  Number Position  Age  Weight   College  \\\n",
      "447     Rudy Gobert  Utah Jazz      27        C   23     245       NaN   \n",
      "448  Gordon Hayward  Utah Jazz      20       SF   26     226    Butler   \n",
      "449     Rodney Hood  Utah Jazz       5       SG   23     206      Duke   \n",
      "450      Joe Ingles  Utah Jazz       2       SF   28     226       NaN   \n",
      "451   Chris Johnson  Utah Jazz      23       SF   26     206    Dayton   \n",
      "452      Trey Lyles  Utah Jazz      41       PF   20     234  Kentucky   \n",
      "453    Shelvin Mack  Utah Jazz       8       PG   26     203    Butler   \n",
      "454       Raul Neto  Utah Jazz      25       PG   24     179       NaN   \n",
      "455    Tibor Pleiss  Utah Jazz      21        C   26     256       NaN   \n",
      "456     Jeff Withey  Utah Jazz      24        C   26     231    Kansas   \n",
      "\n",
      "         Salary  \n",
      "447   1175880.0  \n",
      "448  15409570.0  \n",
      "449   1348440.0  \n",
      "450   2050000.0  \n",
      "451    981348.0  \n",
      "452   2239800.0  \n",
      "453   2433333.0  \n",
      "454    900000.0  \n",
      "455   2900000.0  \n",
      "456    947276.0  \n",
      "Summary statistics for numerical columns:\n",
      "           Number         Age      Weight        Salary\n",
      "count  457.000000  457.000000  457.000000  4.460000e+02\n",
      "mean    17.678337   26.938731  221.522976  4.842684e+06\n",
      "std     15.966090    4.404016   26.368343  5.229238e+06\n",
      "min      0.000000   19.000000  161.000000  3.088800e+04\n",
      "25%      5.000000   24.000000  200.000000  1.044792e+06\n",
      "50%     13.000000   26.000000  220.000000  2.839073e+06\n",
      "75%     25.000000   30.000000  240.000000  6.500000e+06\n",
      "max     99.000000   40.000000  307.000000  2.500000e+07\n",
      "Datatype of columns:\n",
      "Name         object\n",
      "Team         object\n",
      "Number        int64\n",
      "Position     object\n",
      "Age           int64\n",
      "Weight        int64\n",
      "College      object\n",
      "Salary      float64\n",
      "dtype: object\n",
      "Length of the data: 457\n",
      "Rows from index 100 to 200:\n",
      "                 Name                  Team  Number Position  Age  Weight  \\\n",
      "100        Chris Paul  Los Angeles Clippers       3       PG   31     175   \n",
      "101       Paul Pierce  Los Angeles Clippers      34       SF   38     235   \n",
      "102    Pablo Prigioni  Los Angeles Clippers       9       PG   39     185   \n",
      "103         JJ Redick  Los Angeles Clippers       4       SG   31     190   \n",
      "104     Austin Rivers  Los Angeles Clippers      25       PG   23     200   \n",
      "..                ...                   ...     ...      ...  ...     ...   \n",
      "196       Lavoy Allen        Indiana Pacers       5       PF   27     255   \n",
      "197  Rakeem Christmas        Indiana Pacers      25       PF   24     250   \n",
      "198       Monta Ellis        Indiana Pacers      11       SG   30     185   \n",
      "199       Paul George        Indiana Pacers      13       SF   26     220   \n",
      "200       George Hill        Indiana Pacers       3       PG   30     188   \n",
      "\n",
      "          College      Salary  \n",
      "100   Wake Forest  21468695.0  \n",
      "101        Kansas   3376000.0  \n",
      "102           NaN    947726.0  \n",
      "103          Duke   7085000.0  \n",
      "104          Duke   3110796.0  \n",
      "..            ...         ...  \n",
      "196        Temple   4050000.0  \n",
      "197      Syracuse   1007026.0  \n",
      "198           NaN  10300000.0  \n",
      "199  Fresno State  17120106.0  \n",
      "200         IUPUI   8000000.0  \n",
      "\n",
      "[101 rows x 8 columns]\n"
     ]
    }
   ],
   "source": [
    "# Read the csv provide(nba.csv) into a Dataframe- \n",
    "# Display: *Number of rows and columns in dataframe \n",
    "# * Top 10 and bottom 10 rows \n",
    "# * Summary statistics for numerical columns \n",
    "# *Datatype of columns in dataframe \n",
    "# * Length of the data \n",
    "# * Print all the Rows from index 100 to 200\n",
    "\n",
    "df = pd.read_csv(\"nba.csv\")\n",
    "\n",
    "print(\"Number of rows:\", df.shape[0])\n",
    "print(\"Number of columns:\", df.shape[1])\n",
    "\n",
    "# Display top 10 rows\n",
    "print(\"Top 10 rows:\")\n",
    "print(df.head(10))\n",
    "\n",
    "# Display bottom 10 rows\n",
    "print(\"Bottom 10 rows:\")\n",
    "print(df.tail(10))\n",
    "\n",
    "# Summary statistics for numerical columns\n",
    "print(\"Summary statistics for numerical columns:\")\n",
    "print(df.describe())\n",
    "\n",
    "# Datatype of columns in the DataFrame\n",
    "print(\"Datatype of columns:\")\n",
    "print(df.dtypes)\n",
    "\n",
    "# Length of the data\n",
    "print(\"Length of the data:\", len(df))\n",
    "\n",
    "# Print all rows from index 100 to 200\n",
    "print(\"Rows from index 100 to 200:\")\n",
    "print(df.iloc[100:201])"
   ]
  },
  {
   "cell_type": "code",
   "execution_count": null,
   "id": "3ad4ff92-844b-4948-b64e-0b397407bb43",
   "metadata": {},
   "outputs": [],
   "source": []
  }
 ],
 "metadata": {
  "kernelspec": {
   "display_name": "Python 3 (ipykernel)",
   "language": "python",
   "name": "python3"
  },
  "language_info": {
   "codemirror_mode": {
    "name": "ipython",
    "version": 3
   },
   "file_extension": ".py",
   "mimetype": "text/x-python",
   "name": "python",
   "nbconvert_exporter": "python",
   "pygments_lexer": "ipython3",
   "version": "3.11.4"
  }
 },
 "nbformat": 4,
 "nbformat_minor": 5
}
